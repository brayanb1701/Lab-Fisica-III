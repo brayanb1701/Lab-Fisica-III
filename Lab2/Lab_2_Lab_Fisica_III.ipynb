{
  "nbformat": 4,
  "nbformat_minor": 0,
  "metadata": {
    "colab": {
      "name": "Lab 2 - Lab Fisica III.ipynb",
      "provenance": [],
      "authorship_tag": "ABX9TyMumLaubuIbGoePE2XfjieN",
      "include_colab_link": true
    },
    "kernelspec": {
      "name": "python3",
      "display_name": "Python 3"
    },
    "language_info": {
      "name": "python"
    }
  },
  "cells": [
    {
      "cell_type": "markdown",
      "metadata": {
        "id": "view-in-github",
        "colab_type": "text"
      },
      "source": [
        "<a href=\"https://colab.research.google.com/github/brayanb1701/Fisica3_Lab2/blob/main/Lab_2_Lab_Fisica_III.ipynb\" target=\"_parent\"><img src=\"https://colab.research.google.com/assets/colab-badge.svg\" alt=\"Open In Colab\"/></a>"
      ]
    },
    {
      "cell_type": "code",
      "execution_count": null,
      "metadata": {
        "id": "ZWXctd1yCj0R"
      },
      "outputs": [],
      "source": [
        "import pandas as pd\n",
        "import numpy as np\n",
        "import matplotlib.pyplot as plt\n",
        "import os\n",
        "from scipy.optimize import curve_fit,fsolve\n",
        "from sklearn.metrics import r2_score, mean_squared_error"
      ]
    },
    {
      "cell_type": "code",
      "source": [
        "data = pd.read_excel(\"Datos.xlsx\", 'Tabla1')\n",
        "g_theory = 9.82\n",
        "data"
      ],
      "metadata": {
        "colab": {
          "base_uri": "https://localhost:8080/",
          "height": 520
        },
        "id": "QiS4W4PIEN_j",
        "outputId": "4e8979a9-5f09-44bc-eaf8-24a9712238de"
      },
      "execution_count": null,
      "outputs": [
        {
          "output_type": "execute_result",
          "data": {
            "text/plain": [
              "    X2      t1      T1      T1_2      t2      T2      T2_2\n",
              "0   20  105.59  2.1118  4.459699  101.31  2.0262  4.105486\n",
              "1   25  102.34  2.0468  4.189390  100.67  2.0134  4.053780\n",
              "2   30  100.22  2.0044  4.017619  100.17  2.0034  4.013612\n",
              "3   35   99.37  1.9874  3.949759   99.59  1.9918  3.967267\n",
              "4   40   98.64  1.9728  3.891940   99.43  1.9886  3.954530\n",
              "5   45   97.78  1.9556  3.824371   99.18  1.9836  3.934669\n",
              "6   50   97.91  1.9582  3.834547   99.25  1.9850  3.940225\n",
              "7   55   97.97  1.9594  3.839248   99.33  1.9866  3.946580\n",
              "8   60   98.60  1.9720  3.888784   99.33  1.9866  3.946580\n",
              "9   65   99.29  1.9858  3.943402   99.88  1.9976  3.990406\n",
              "10  70  100.26  2.0052  4.020827  100.16  2.0032  4.012810\n",
              "11  75  101.55  2.0310  4.124961  100.94  2.0188  4.075553\n",
              "12  80  102.74  2.0548  4.222203  101.88  2.0376  4.151814\n",
              "13  85  103.91  2.0782  4.318915  102.93  2.0586  4.237834\n",
              "14  90  105.39  2.1078  4.442821  104.35  2.0870  4.355569"
            ],
            "text/html": [
              "\n",
              "  <div id=\"df-3b29c02c-a1ca-420b-891e-f4dbc0deeffa\">\n",
              "    <div class=\"colab-df-container\">\n",
              "      <div>\n",
              "<style scoped>\n",
              "    .dataframe tbody tr th:only-of-type {\n",
              "        vertical-align: middle;\n",
              "    }\n",
              "\n",
              "    .dataframe tbody tr th {\n",
              "        vertical-align: top;\n",
              "    }\n",
              "\n",
              "    .dataframe thead th {\n",
              "        text-align: right;\n",
              "    }\n",
              "</style>\n",
              "<table border=\"1\" class=\"dataframe\">\n",
              "  <thead>\n",
              "    <tr style=\"text-align: right;\">\n",
              "      <th></th>\n",
              "      <th>X2</th>\n",
              "      <th>t1</th>\n",
              "      <th>T1</th>\n",
              "      <th>T1_2</th>\n",
              "      <th>t2</th>\n",
              "      <th>T2</th>\n",
              "      <th>T2_2</th>\n",
              "    </tr>\n",
              "  </thead>\n",
              "  <tbody>\n",
              "    <tr>\n",
              "      <th>0</th>\n",
              "      <td>20</td>\n",
              "      <td>105.59</td>\n",
              "      <td>2.1118</td>\n",
              "      <td>4.459699</td>\n",
              "      <td>101.31</td>\n",
              "      <td>2.0262</td>\n",
              "      <td>4.105486</td>\n",
              "    </tr>\n",
              "    <tr>\n",
              "      <th>1</th>\n",
              "      <td>25</td>\n",
              "      <td>102.34</td>\n",
              "      <td>2.0468</td>\n",
              "      <td>4.189390</td>\n",
              "      <td>100.67</td>\n",
              "      <td>2.0134</td>\n",
              "      <td>4.053780</td>\n",
              "    </tr>\n",
              "    <tr>\n",
              "      <th>2</th>\n",
              "      <td>30</td>\n",
              "      <td>100.22</td>\n",
              "      <td>2.0044</td>\n",
              "      <td>4.017619</td>\n",
              "      <td>100.17</td>\n",
              "      <td>2.0034</td>\n",
              "      <td>4.013612</td>\n",
              "    </tr>\n",
              "    <tr>\n",
              "      <th>3</th>\n",
              "      <td>35</td>\n",
              "      <td>99.37</td>\n",
              "      <td>1.9874</td>\n",
              "      <td>3.949759</td>\n",
              "      <td>99.59</td>\n",
              "      <td>1.9918</td>\n",
              "      <td>3.967267</td>\n",
              "    </tr>\n",
              "    <tr>\n",
              "      <th>4</th>\n",
              "      <td>40</td>\n",
              "      <td>98.64</td>\n",
              "      <td>1.9728</td>\n",
              "      <td>3.891940</td>\n",
              "      <td>99.43</td>\n",
              "      <td>1.9886</td>\n",
              "      <td>3.954530</td>\n",
              "    </tr>\n",
              "    <tr>\n",
              "      <th>5</th>\n",
              "      <td>45</td>\n",
              "      <td>97.78</td>\n",
              "      <td>1.9556</td>\n",
              "      <td>3.824371</td>\n",
              "      <td>99.18</td>\n",
              "      <td>1.9836</td>\n",
              "      <td>3.934669</td>\n",
              "    </tr>\n",
              "    <tr>\n",
              "      <th>6</th>\n",
              "      <td>50</td>\n",
              "      <td>97.91</td>\n",
              "      <td>1.9582</td>\n",
              "      <td>3.834547</td>\n",
              "      <td>99.25</td>\n",
              "      <td>1.9850</td>\n",
              "      <td>3.940225</td>\n",
              "    </tr>\n",
              "    <tr>\n",
              "      <th>7</th>\n",
              "      <td>55</td>\n",
              "      <td>97.97</td>\n",
              "      <td>1.9594</td>\n",
              "      <td>3.839248</td>\n",
              "      <td>99.33</td>\n",
              "      <td>1.9866</td>\n",
              "      <td>3.946580</td>\n",
              "    </tr>\n",
              "    <tr>\n",
              "      <th>8</th>\n",
              "      <td>60</td>\n",
              "      <td>98.60</td>\n",
              "      <td>1.9720</td>\n",
              "      <td>3.888784</td>\n",
              "      <td>99.33</td>\n",
              "      <td>1.9866</td>\n",
              "      <td>3.946580</td>\n",
              "    </tr>\n",
              "    <tr>\n",
              "      <th>9</th>\n",
              "      <td>65</td>\n",
              "      <td>99.29</td>\n",
              "      <td>1.9858</td>\n",
              "      <td>3.943402</td>\n",
              "      <td>99.88</td>\n",
              "      <td>1.9976</td>\n",
              "      <td>3.990406</td>\n",
              "    </tr>\n",
              "    <tr>\n",
              "      <th>10</th>\n",
              "      <td>70</td>\n",
              "      <td>100.26</td>\n",
              "      <td>2.0052</td>\n",
              "      <td>4.020827</td>\n",
              "      <td>100.16</td>\n",
              "      <td>2.0032</td>\n",
              "      <td>4.012810</td>\n",
              "    </tr>\n",
              "    <tr>\n",
              "      <th>11</th>\n",
              "      <td>75</td>\n",
              "      <td>101.55</td>\n",
              "      <td>2.0310</td>\n",
              "      <td>4.124961</td>\n",
              "      <td>100.94</td>\n",
              "      <td>2.0188</td>\n",
              "      <td>4.075553</td>\n",
              "    </tr>\n",
              "    <tr>\n",
              "      <th>12</th>\n",
              "      <td>80</td>\n",
              "      <td>102.74</td>\n",
              "      <td>2.0548</td>\n",
              "      <td>4.222203</td>\n",
              "      <td>101.88</td>\n",
              "      <td>2.0376</td>\n",
              "      <td>4.151814</td>\n",
              "    </tr>\n",
              "    <tr>\n",
              "      <th>13</th>\n",
              "      <td>85</td>\n",
              "      <td>103.91</td>\n",
              "      <td>2.0782</td>\n",
              "      <td>4.318915</td>\n",
              "      <td>102.93</td>\n",
              "      <td>2.0586</td>\n",
              "      <td>4.237834</td>\n",
              "    </tr>\n",
              "    <tr>\n",
              "      <th>14</th>\n",
              "      <td>90</td>\n",
              "      <td>105.39</td>\n",
              "      <td>2.1078</td>\n",
              "      <td>4.442821</td>\n",
              "      <td>104.35</td>\n",
              "      <td>2.0870</td>\n",
              "      <td>4.355569</td>\n",
              "    </tr>\n",
              "  </tbody>\n",
              "</table>\n",
              "</div>\n",
              "      <button class=\"colab-df-convert\" onclick=\"convertToInteractive('df-3b29c02c-a1ca-420b-891e-f4dbc0deeffa')\"\n",
              "              title=\"Convert this dataframe to an interactive table.\"\n",
              "              style=\"display:none;\">\n",
              "        \n",
              "  <svg xmlns=\"http://www.w3.org/2000/svg\" height=\"24px\"viewBox=\"0 0 24 24\"\n",
              "       width=\"24px\">\n",
              "    <path d=\"M0 0h24v24H0V0z\" fill=\"none\"/>\n",
              "    <path d=\"M18.56 5.44l.94 2.06.94-2.06 2.06-.94-2.06-.94-.94-2.06-.94 2.06-2.06.94zm-11 1L8.5 8.5l.94-2.06 2.06-.94-2.06-.94L8.5 2.5l-.94 2.06-2.06.94zm10 10l.94 2.06.94-2.06 2.06-.94-2.06-.94-.94-2.06-.94 2.06-2.06.94z\"/><path d=\"M17.41 7.96l-1.37-1.37c-.4-.4-.92-.59-1.43-.59-.52 0-1.04.2-1.43.59L10.3 9.45l-7.72 7.72c-.78.78-.78 2.05 0 2.83L4 21.41c.39.39.9.59 1.41.59.51 0 1.02-.2 1.41-.59l7.78-7.78 2.81-2.81c.8-.78.8-2.07 0-2.86zM5.41 20L4 18.59l7.72-7.72 1.47 1.35L5.41 20z\"/>\n",
              "  </svg>\n",
              "      </button>\n",
              "      \n",
              "  <style>\n",
              "    .colab-df-container {\n",
              "      display:flex;\n",
              "      flex-wrap:wrap;\n",
              "      gap: 12px;\n",
              "    }\n",
              "\n",
              "    .colab-df-convert {\n",
              "      background-color: #E8F0FE;\n",
              "      border: none;\n",
              "      border-radius: 50%;\n",
              "      cursor: pointer;\n",
              "      display: none;\n",
              "      fill: #1967D2;\n",
              "      height: 32px;\n",
              "      padding: 0 0 0 0;\n",
              "      width: 32px;\n",
              "    }\n",
              "\n",
              "    .colab-df-convert:hover {\n",
              "      background-color: #E2EBFA;\n",
              "      box-shadow: 0px 1px 2px rgba(60, 64, 67, 0.3), 0px 1px 3px 1px rgba(60, 64, 67, 0.15);\n",
              "      fill: #174EA6;\n",
              "    }\n",
              "\n",
              "    [theme=dark] .colab-df-convert {\n",
              "      background-color: #3B4455;\n",
              "      fill: #D2E3FC;\n",
              "    }\n",
              "\n",
              "    [theme=dark] .colab-df-convert:hover {\n",
              "      background-color: #434B5C;\n",
              "      box-shadow: 0px 1px 3px 1px rgba(0, 0, 0, 0.15);\n",
              "      filter: drop-shadow(0px 1px 2px rgba(0, 0, 0, 0.3));\n",
              "      fill: #FFFFFF;\n",
              "    }\n",
              "  </style>\n",
              "\n",
              "      <script>\n",
              "        const buttonEl =\n",
              "          document.querySelector('#df-3b29c02c-a1ca-420b-891e-f4dbc0deeffa button.colab-df-convert');\n",
              "        buttonEl.style.display =\n",
              "          google.colab.kernel.accessAllowed ? 'block' : 'none';\n",
              "\n",
              "        async function convertToInteractive(key) {\n",
              "          const element = document.querySelector('#df-3b29c02c-a1ca-420b-891e-f4dbc0deeffa');\n",
              "          const dataTable =\n",
              "            await google.colab.kernel.invokeFunction('convertToInteractive',\n",
              "                                                     [key], {});\n",
              "          if (!dataTable) return;\n",
              "\n",
              "          const docLinkHtml = 'Like what you see? Visit the ' +\n",
              "            '<a target=\"_blank\" href=https://colab.research.google.com/notebooks/data_table.ipynb>data table notebook</a>'\n",
              "            + ' to learn more about interactive tables.';\n",
              "          element.innerHTML = '';\n",
              "          dataTable['output_type'] = 'display_data';\n",
              "          await google.colab.output.renderOutput(dataTable, element);\n",
              "          const docLink = document.createElement('div');\n",
              "          docLink.innerHTML = docLinkHtml;\n",
              "          element.appendChild(docLink);\n",
              "        }\n",
              "      </script>\n",
              "    </div>\n",
              "  </div>\n",
              "  "
            ]
          },
          "metadata": {},
          "execution_count": 3
        }
      ]
    },
    {
      "cell_type": "code",
      "source": [
        "plt.figure(figsize=(8,5))\n",
        "#plt.scatter(data['Frecuencia'],data['Amp_Salida'])\n",
        "plt.plot(data['X2'],data['T1_2'],'o-', label='$(T_1)^2$')\n",
        "plt.plot(data['X2'],data['T2_2'],'o-', label='$(T_2)^2$')\n",
        "plt.legend()\n",
        "plt.title('$T^2$ vs $X_2$')\n",
        "plt.xlabel(\"$X_2$ [cm]\")\n",
        "plt.ylabel(\"$T^2$ $[s^2]$\")\n",
        "plt.grid()\n",
        "plt.show()"
      ],
      "metadata": {
        "colab": {
          "base_uri": "https://localhost:8080/",
          "height": 357
        },
        "id": "bbHFAl6LIuoD",
        "outputId": "519bdedc-0d58-4309-89a8-32eb7b4c6fd6"
      },
      "execution_count": null,
      "outputs": [
        {
          "output_type": "display_data",
          "data": {
            "text/plain": [
              "<Figure size 576x360 with 1 Axes>"
            ],
            "image/png": "[encoded data removed]"
          },
          "metadata": {
            "needs_background": "light"
          }
        }
      ]
    },
    {
      "cell_type": "code",
      "source": [
        "def cubic(x, a, b, c, d):\n",
        "    return a*x**3+b*x**2+c*x+d\n",
        "def linear(x, m, b):\n",
        "    return m*x+b"
      ],
      "metadata": {
        "id": "uK1F0u6YSSw1"
      },
      "execution_count": null,
      "outputs": []
    },
    {
      "cell_type": "code",
      "source": [
        "popt1, pcov1 = curve_fit(cubic, data['X2'], data['T1_2'])\n",
        "print(popt1)\n",
        "R_S1 = r2_score(data['T1_2'],cubic(data['X2'], *popt1))\n",
        "RMSE1 = mean_squared_error(data['T1_2'],cubic(data['X2'], *popt1), squared=False)\n",
        "print(R_S1)\n",
        "print(RMSE1)"
      ],
      "metadata": {
        "colab": {
          "base_uri": "https://localhost:8080/"
        },
        "id": "5NX0832aU_10",
        "outputId": "08d0e305-b542-46ec-c9b6-afb9ccb55903"
      },
      "execution_count": null,
      "outputs": [
        {
          "output_type": "stream",
          "name": "stdout",
          "text": [
            "[-5.41868020e-06  1.37544411e-03 -9.54128116e-02  5.82844940e+00]\n",
            "0.9926832458162655\n",
            "0.017970132187891376\n"
          ]
        }
      ]
    },
    {
      "cell_type": "code",
      "source": [
        "popt2, pcov2 = curve_fit(cubic, data['X2'], data['T2_2'])\n",
        "print(popt2)\n",
        "R_S2 = r2_score(data['T2_2'],cubic(data['X2'], *popt2))\n",
        "RMSE2 = mean_squared_error(data['T2_2'],cubic(data['X2'], *popt2), squared=False)\n",
        "print(R_S2)\n",
        "print(RMSE2)"
      ],
      "metadata": {
        "colab": {
          "base_uri": "https://localhost:8080/"
        },
        "id": "60NrsexXWOac",
        "outputId": "e7785ff3-6fef-4c4a-c79e-249029b1be16"
      },
      "execution_count": null,
      "outputs": [
        {
          "output_type": "stream",
          "name": "stdout",
          "text": [
            "[ 1.26944491e-06  2.69837758e-05 -1.24971793e-02  4.32995629e+00]\n",
            "0.9966601993709331\n",
            "0.006861658499155214\n"
          ]
        }
      ]
    },
    {
      "cell_type": "code",
      "source": [
        "x_new = np.linspace(20,90,100)\n",
        "plt.figure(figsize=(8,5))\n",
        "plt.plot(data['X2'],data['T1_2'],'o', c='red', label='Data of $(T_1)^2$')\n",
        "plt.plot(x_new, cubic(x_new, *popt1), 'r-', c='orange',\n",
        "         label='Cubic fit for $(T_1)^2$')\n",
        "plt.plot(data['X2'],data['T2_2'],'o', c='blue', label='Data of $(T_2)^2$')\n",
        "plt.plot(x_new, cubic(x_new, *popt2), 'r-', c='black',\n",
        "         label='Cubic fit for $(T_2)^2$')\n",
        "plt.legend()\n",
        "plt.title('$T^2$ vs $X_2$')\n",
        "plt.xlabel(\"$X_2$ [cm]\")\n",
        "plt.ylabel(\"$T^2$ $[s^2]$\")\n",
        "plt.grid()\n",
        "plt.show()"
      ],
      "metadata": {
        "colab": {
          "base_uri": "https://localhost:8080/",
          "height": 357
        },
        "id": "v5vBOF_wWOwE",
        "outputId": "1e473f75-069c-45ae-d7a4-2479a0b41db8"
      },
      "execution_count": null,
      "outputs": [
        {
          "output_type": "display_data",
          "data": {
            "text/plain": [
              "<Figure size 576x360 with 1 Axes>"
            ],
            "image/png": "[encoded data removed]"
          },
          "metadata": {
            "needs_background": "light"
          }
        }
      ]
    },
    {
      "cell_type": "code",
      "source": [
        "root_coef = popt1-popt2\n",
        "print(root_coef)\n",
        "def root_cubic(x, root_coef=root_coef):\n",
        "    return cubic(x, *root_coef)\n",
        "roots = fsolve(root_cubic,[30,80])\n",
        "roots"
      ],
      "metadata": {
        "colab": {
          "base_uri": "https://localhost:8080/"
        },
        "id": "n1LWMhzXWyvV",
        "outputId": "a9f19e85-2721-4f6c-d9cf-cfb00e99d9e8"
      },
      "execution_count": null,
      "outputs": [
        {
          "output_type": "stream",
          "name": "stdout",
          "text": [
            "[-6.68812511e-06  1.34846033e-03 -8.29156323e-02  1.49849311e+00]\n"
          ]
        },
        {
          "output_type": "execute_result",
          "data": {
            "text/plain": [
              "array([32.40652848, 68.97059622])"
            ]
          },
          "metadata": {},
          "execution_count": 43
        }
      ]
    },
    {
      "cell_type": "code",
      "source": [
        "cubic(roots, *popt2)"
      ],
      "metadata": {
        "colab": {
          "base_uri": "https://localhost:8080/"
        },
        "id": "_VqGA_xZHmCP",
        "outputId": "e1b90595-8583-4192-bbb0-76bc71080ce3"
      },
      "execution_count": null,
      "outputs": [
        {
          "output_type": "execute_result",
          "data": {
            "text/plain": [
              "array([3.99650675, 4.01286984])"
            ]
          },
          "metadata": {},
          "execution_count": 44
        }
      ]
    },
    {
      "cell_type": "code",
      "source": [
        "sum(cubic(roots, *popt2))/2"
      ],
      "metadata": {
        "colab": {
          "base_uri": "https://localhost:8080/"
        },
        "id": "1GhmM-iEHy22",
        "outputId": "719dd679-2095-458e-b6f0-e6ad0f4ba7e3"
      },
      "execution_count": null,
      "outputs": [
        {
          "output_type": "execute_result",
          "data": {
            "text/plain": [
              "4.004688293685515"
            ]
          },
          "metadata": {},
          "execution_count": 45
        }
      ]
    },
    {
      "cell_type": "code",
      "source": [
        "T2_prom = sum(cubic(roots, *popt2))/2\n",
        "print(T2_prom)\n",
        "g_cubic = 4*np.pi**2*0.994/T2_prom\n",
        "print(g_cubic)\n",
        "error = (g_theory-g_cubic)/g_theory*100\n",
        "print(error)"
      ],
      "metadata": {
        "colab": {
          "base_uri": "https://localhost:8080/"
        },
        "id": "L28KoNbcaQHl",
        "outputId": "c854e7d1-1204-4963-f183-5ee8c5dc582c"
      },
      "execution_count": null,
      "outputs": [
        {
          "output_type": "stream",
          "name": "stdout",
          "text": [
            "4.004688293685515\n",
            "9.798901742391863\n",
            "0.21484987380995693\n"
          ]
        }
      ]
    },
    {
      "cell_type": "code",
      "source": [
        "linl1, _ = curve_fit(linear, data['X2'][[2,3]], data['T1_2'][[2,3]])\n",
        "print(linl1)\n",
        "linl2, _ = curve_fit(linear, data['X2'][[2,3]], data['T2_2'][[2,3]])\n",
        "print(linl2)\n",
        "linr1, _ = curve_fit(linear, data['X2'][[9,10]], data['T1_2'][[9,10]])\n",
        "print(linr1)\n",
        "linr2, _ = curve_fit(linear, data['X2'][[9,10]], data['T2_2'][[9,10]])\n",
        "print(linr2)\n",
        "inter_coef_l = linl1-linl2\n",
        "inter_coef_r = linr1-linr2\n",
        "root1 = -inter_coef_l[1]/inter_coef_l[0]\n",
        "root2 = -inter_coef_r[1]/inter_coef_r[0]\n",
        "print([root1,root2])"
      ],
      "metadata": {
        "colab": {
          "base_uri": "https://localhost:8080/"
        },
        "id": "mACxQhWAcyZ1",
        "outputId": "9cc58f6b-e449-4138-c99a-b95ce7729be4"
      },
      "execution_count": null,
      "outputs": [
        {
          "output_type": "stream",
          "name": "stdout",
          "text": [
            "[-0.01357212  4.42478296]\n",
            "[-0.00926886  4.29167748]\n",
            "[0.01548508 2.93687144]\n",
            "[0.0044809  3.69914752]\n",
            "[30.931341291338253, 69.27147710361793]\n"
          ]
        },
        {
          "output_type": "stream",
          "name": "stderr",
          "text": [
            "/usr/local/lib/python3.7/dist-packages/scipy/optimize/minpack.py:834: OptimizeWarning: Covariance of the parameters could not be estimated\n",
            "  category=OptimizeWarning)\n"
          ]
        }
      ]
    },
    {
      "cell_type": "code",
      "source": [
        "print(linear(root1, *linl1))\n",
        "print(linear(root2, *linr1))"
      ],
      "metadata": {
        "colab": {
          "base_uri": "https://localhost:8080/"
        },
        "id": "f4IfO-JzTAJe",
        "outputId": "7e1b8e8f-9d93-495d-d6c8-c687e7d572fb"
      },
      "execution_count": null,
      "outputs": [
        {
          "output_type": "stream",
          "name": "stdout",
          "text": [
            "4.0049790842330015\n",
            "4.0095458046676935\n"
          ]
        }
      ]
    },
    {
      "cell_type": "code",
      "source": [
        "T2_prom = (linear(root1, *linl1)+linear(root2, *linr1))/2\n",
        "print(T2_prom)\n",
        "g_linear = 4*np.pi**2*0.994/T2_prom\n",
        "print(g_linear)\n",
        "error = (g_theory-g_linear)/g_theory*100\n",
        "print(error)"
      ],
      "metadata": {
        "colab": {
          "base_uri": "https://localhost:8080/"
        },
        "id": "LmdZXQAre3WG",
        "outputId": "157483a5-041b-461f-8ee7-ab08edb6cc5c"
      },
      "execution_count": null,
      "outputs": [
        {
          "output_type": "stream",
          "name": "stdout",
          "text": [
            "4.0072624444503475\n",
            "9.79260720821439\n",
            "0.2789489998534651\n"
          ]
        }
      ]
    },
    {
      "cell_type": "code",
      "source": [
        "data2 = pd.read_excel(\"Datos.xlsx\", 'Tabla2')\n",
        "data2"
      ],
      "metadata": {
        "colab": {
          "base_uri": "https://localhost:8080/",
          "height": 269
        },
        "id": "1UZAV8BGgD9d",
        "outputId": "60e8917f-0db6-4bc4-98d5-7c02bc24e4e7"
      },
      "execution_count": null,
      "outputs": [
        {
          "output_type": "execute_result",
          "data": {
            "text/plain": [
              "       L     t1     t2     t3          t    desv_t         T       T_2  \\\n",
              "0   24.0  19.20  19.31  19.18  19.230000  0.057155  0.961500  0.924482   \n",
              "1   24.5  19.43  19.77  19.64  19.613333  0.140079  0.980667  0.961707   \n",
              "2   50.5  28.24  28.22  28.32  28.260000  0.043205  1.413000  1.996569   \n",
              "3   75.3  34.38  34.49  34.50  34.456667  0.054365  1.722833  2.968155   \n",
              "4  101.0  40.23  40.20  40.15  40.193333  0.032998  2.009667  4.038760   \n",
              "5  124.5  44.50  44.42  44.47  44.463333  0.032998  2.223167  4.942470   \n",
              "6  147.5  48.76  48.64  48.71  48.703333  0.049216  2.435167  5.930037   \n",
              "\n",
              "   desv_T_2  \n",
              "0  0.005495  \n",
              "1  0.013737  \n",
              "2  0.006105  \n",
              "3  0.009366  \n",
              "4  0.006632  \n",
              "5  0.007336  \n",
              "6  0.011985  "
            ],
            "text/html": [
              "\n",
              "  <div id=\"df-afc3ca31-9add-4359-85a5-9e8b4f85dc57\">\n",
              "    <div class=\"colab-df-container\">\n",
              "      <div>\n",
              "<style scoped>\n",
              "    .dataframe tbody tr th:only-of-type {\n",
              "        vertical-align: middle;\n",
              "    }\n",
              "\n",
              "    .dataframe tbody tr th {\n",
              "        vertical-align: top;\n",
              "    }\n",
              "\n",
              "    .dataframe thead th {\n",
              "        text-align: right;\n",
              "    }\n",
              "</style>\n",
              "<table border=\"1\" class=\"dataframe\">\n",
              "  <thead>\n",
              "    <tr style=\"text-align: right;\">\n",
              "      <th></th>\n",
              "      <th>L</th>\n",
              "      <th>t1</th>\n",
              "      <th>t2</th>\n",
              "      <th>t3</th>\n",
              "      <th>t</th>\n",
              "      <th>desv_t</th>\n",
              "      <th>T</th>\n",
              "      <th>T_2</th>\n",
              "      <th>desv_T_2</th>\n",
              "    </tr>\n",
              "  </thead>\n",
              "  <tbody>\n",
              "    <tr>\n",
              "      <th>0</th>\n",
              "      <td>24.0</td>\n",
              "      <td>19.20</td>\n",
              "      <td>19.31</td>\n",
              "      <td>19.18</td>\n",
              "      <td>19.230000</td>\n",
              "      <td>0.057155</td>\n",
              "      <td>0.961500</td>\n",
              "      <td>0.924482</td>\n",
              "      <td>0.005495</td>\n",
              "    </tr>\n",
              "    <tr>\n",
              "      <th>1</th>\n",
              "      <td>24.5</td>\n",
              "      <td>19.43</td>\n",
              "      <td>19.77</td>\n",
              "      <td>19.64</td>\n",
              "      <td>19.613333</td>\n",
              "      <td>0.140079</td>\n",
              "      <td>0.980667</td>\n",
              "      <td>0.961707</td>\n",
              "      <td>0.013737</td>\n",
              "    </tr>\n",
              "    <tr>\n",
              "      <th>2</th>\n",
              "      <td>50.5</td>\n",
              "      <td>28.24</td>\n",
              "      <td>28.22</td>\n",
              "      <td>28.32</td>\n",
              "      <td>28.260000</td>\n",
              "      <td>0.043205</td>\n",
              "      <td>1.413000</td>\n",
              "      <td>1.996569</td>\n",
              "      <td>0.006105</td>\n",
              "    </tr>\n",
              "    <tr>\n",
              "      <th>3</th>\n",
              "      <td>75.3</td>\n",
              "      <td>34.38</td>\n",
              "      <td>34.49</td>\n",
              "      <td>34.50</td>\n",
              "      <td>34.456667</td>\n",
              "      <td>0.054365</td>\n",
              "      <td>1.722833</td>\n",
              "      <td>2.968155</td>\n",
              "      <td>0.009366</td>\n",
              "    </tr>\n",
              "    <tr>\n",
              "      <th>4</th>\n",
              "      <td>101.0</td>\n",
              "      <td>40.23</td>\n",
              "      <td>40.20</td>\n",
              "      <td>40.15</td>\n",
              "      <td>40.193333</td>\n",
              "      <td>0.032998</td>\n",
              "      <td>2.009667</td>\n",
              "      <td>4.038760</td>\n",
              "      <td>0.006632</td>\n",
              "    </tr>\n",
              "    <tr>\n",
              "      <th>5</th>\n",
              "      <td>124.5</td>\n",
              "      <td>44.50</td>\n",
              "      <td>44.42</td>\n",
              "      <td>44.47</td>\n",
              "      <td>44.463333</td>\n",
              "      <td>0.032998</td>\n",
              "      <td>2.223167</td>\n",
              "      <td>4.942470</td>\n",
              "      <td>0.007336</td>\n",
              "    </tr>\n",
              "    <tr>\n",
              "      <th>6</th>\n",
              "      <td>147.5</td>\n",
              "      <td>48.76</td>\n",
              "      <td>48.64</td>\n",
              "      <td>48.71</td>\n",
              "      <td>48.703333</td>\n",
              "      <td>0.049216</td>\n",
              "      <td>2.435167</td>\n",
              "      <td>5.930037</td>\n",
              "      <td>0.011985</td>\n",
              "    </tr>\n",
              "  </tbody>\n",
              "</table>\n",
              "</div>\n",
              "      <button class=\"colab-df-convert\" onclick=\"convertToInteractive('df-afc3ca31-9add-4359-85a5-9e8b4f85dc57')\"\n",
              "              title=\"Convert this dataframe to an interactive table.\"\n",
              "              style=\"display:none;\">\n",
              "        \n",
              "  <svg xmlns=\"http://www.w3.org/2000/svg\" height=\"24px\"viewBox=\"0 0 24 24\"\n",
              "       width=\"24px\">\n",
              "    <path d=\"M0 0h24v24H0V0z\" fill=\"none\"/>\n",
              "    <path d=\"M18.56 5.44l.94 2.06.94-2.06 2.06-.94-2.06-.94-.94-2.06-.94 2.06-2.06.94zm-11 1L8.5 8.5l.94-2.06 2.06-.94-2.06-.94L8.5 2.5l-.94 2.06-2.06.94zm10 10l.94 2.06.94-2.06 2.06-.94-2.06-.94-.94-2.06-.94 2.06-2.06.94z\"/><path d=\"M17.41 7.96l-1.37-1.37c-.4-.4-.92-.59-1.43-.59-.52 0-1.04.2-1.43.59L10.3 9.45l-7.72 7.72c-.78.78-.78 2.05 0 2.83L4 21.41c.39.39.9.59 1.41.59.51 0 1.02-.2 1.41-.59l7.78-7.78 2.81-2.81c.8-.78.8-2.07 0-2.86zM5.41 20L4 18.59l7.72-7.72 1.47 1.35L5.41 20z\"/>\n",
              "  </svg>\n",
              "      </button>\n",
              "      \n",
              "  <style>\n",
              "    .colab-df-container {\n",
              "      display:flex;\n",
              "      flex-wrap:wrap;\n",
              "      gap: 12px;\n",
              "    }\n",
              "\n",
              "    .colab-df-convert {\n",
              "      background-color: #E8F0FE;\n",
              "      border: none;\n",
              "      border-radius: 50%;\n",
              "      cursor: pointer;\n",
              "      display: none;\n",
              "      fill: #1967D2;\n",
              "      height: 32px;\n",
              "      padding: 0 0 0 0;\n",
              "      width: 32px;\n",
              "    }\n",
              "\n",
              "    .colab-df-convert:hover {\n",
              "      background-color: #E2EBFA;\n",
              "      box-shadow: 0px 1px 2px rgba(60, 64, 67, 0.3), 0px 1px 3px 1px rgba(60, 64, 67, 0.15);\n",
              "      fill: #174EA6;\n",
              "    }\n",
              "\n",
              "    [theme=dark] .colab-df-convert {\n",
              "      background-color: #3B4455;\n",
              "      fill: #D2E3FC;\n",
              "    }\n",
              "\n",
              "    [theme=dark] .colab-df-convert:hover {\n",
              "      background-color: #434B5C;\n",
              "      box-shadow: 0px 1px 3px 1px rgba(0, 0, 0, 0.15);\n",
              "      filter: drop-shadow(0px 1px 2px rgba(0, 0, 0, 0.3));\n",
              "      fill: #FFFFFF;\n",
              "    }\n",
              "  </style>\n",
              "\n",
              "      <script>\n",
              "        const buttonEl =\n",
              "          document.querySelector('#df-afc3ca31-9add-4359-85a5-9e8b4f85dc57 button.colab-df-convert');\n",
              "        buttonEl.style.display =\n",
              "          google.colab.kernel.accessAllowed ? 'block' : 'none';\n",
              "\n",
              "        async function convertToInteractive(key) {\n",
              "          const element = document.querySelector('#df-afc3ca31-9add-4359-85a5-9e8b4f85dc57');\n",
              "          const dataTable =\n",
              "            await google.colab.kernel.invokeFunction('convertToInteractive',\n",
              "                                                     [key], {});\n",
              "          if (!dataTable) return;\n",
              "\n",
              "          const docLinkHtml = 'Like what you see? Visit the ' +\n",
              "            '<a target=\"_blank\" href=https://colab.research.google.com/notebooks/data_table.ipynb>data table notebook</a>'\n",
              "            + ' to learn more about interactive tables.';\n",
              "          element.innerHTML = '';\n",
              "          dataTable['output_type'] = 'display_data';\n",
              "          await google.colab.output.renderOutput(dataTable, element);\n",
              "          const docLink = document.createElement('div');\n",
              "          docLink.innerHTML = docLinkHtml;\n",
              "          element.appendChild(docLink);\n",
              "        }\n",
              "      </script>\n",
              "    </div>\n",
              "  </div>\n",
              "  "
            ]
          },
          "metadata": {},
          "execution_count": 49
        }
      ]
    },
    {
      "cell_type": "code",
      "source": [
        "plt.figure(figsize=(8,5))\n",
        "#plt.scatter(data['Frecuencia'],data['Amp_Salida'])\n",
        "#plt.plot(data2['L'][1:],data2['T_2'][1:],'o-')\n",
        "plt.errorbar(data2['L'][1:],data2['T_2'][1:], yerr = data2['desv_T_2'][1:],fmt='o',ecolor = 'red',color='blue')\n",
        "plt.title('$T^2$ vs $L$')\n",
        "plt.xlabel(\"$L$ $[cm]$\")\n",
        "plt.ylabel(\"$T^2$ $[s^2]$\")\n",
        "plt.grid()\n",
        "plt.show()"
      ],
      "metadata": {
        "colab": {
          "base_uri": "https://localhost:8080/",
          "height": 357
        },
        "id": "gYuzixSXgZcN",
        "outputId": "84ecfccd-37e6-445e-ecbb-eb50ae4bfb62"
      },
      "execution_count": null,
      "outputs": [
        {
          "output_type": "display_data",
          "data": {
            "text/plain": [
              "<Figure size 576x360 with 1 Axes>"
            ],
            "image/png": "[encoded data removed]"
          },
          "metadata": {
            "needs_background": "light"
          }
        }
      ]
    },
    {
      "cell_type": "code",
      "source": [
        "coef_lin, _ = curve_fit(linear, data2['L'][1:], data2['T_2'][1:])\n",
        "print(coef_lin)"
      ],
      "metadata": {
        "colab": {
          "base_uri": "https://localhost:8080/"
        },
        "id": "FZrjtOcbhbQd",
        "outputId": "97d2a277-d53e-469f-de72-0ddc6f20c5ff"
      },
      "execution_count": null,
      "outputs": [
        {
          "output_type": "stream",
          "name": "stdout",
          "text": [
            "[ 0.04027492 -0.0396943 ]\n"
          ]
        }
      ]
    },
    {
      "cell_type": "code",
      "source": [
        "R_S2 = r2_score(data2['T_2'],linear(data2['L'], *coef_lin))\n",
        "RMSE2 = mean_squared_error(data2['T_2'],linear(data2['L'], *coef_lin), squared=False)\n",
        "print(R_S2)\n",
        "print(RMSE2)"
      ],
      "metadata": {
        "colab": {
          "base_uri": "https://localhost:8080/"
        },
        "id": "w2vdYE83x41p",
        "outputId": "9e06ff1d-9891-4103-8cf6-d07bcc2f6f69"
      },
      "execution_count": null,
      "outputs": [
        {
          "output_type": "stream",
          "name": "stdout",
          "text": [
            "0.9998756597103844\n",
            "0.020135335683492496\n"
          ]
        }
      ]
    },
    {
      "cell_type": "code",
      "source": [
        "x_new = np.linspace(20, 150, 100)\n",
        "plt.figure(figsize=(8,5))\n",
        "#plt.scatter(data['Frecuencia'],data['Amp_Salida'])\n",
        "plt.plot(data2['L'][1:],data2['T_2'][1:],'o', label='Datos experimentales')\n",
        "plt.plot(x_new,linear(x_new,*coef_lin),label='$T^2=0.040275*L-0.0397$')\n",
        "plt.legend()\n",
        "plt.title('$T^2$ vs $L$')\n",
        "plt.xlabel(\"$L$ $[cm]$\")\n",
        "plt.ylabel(\"$T^2$ $[s^2]$\")\n",
        "plt.grid()\n",
        "plt.show()"
      ],
      "metadata": {
        "colab": {
          "base_uri": "https://localhost:8080/",
          "height": 357
        },
        "id": "d8KOrAp5tXXY",
        "outputId": "e17010da-5130-41f2-939f-a40a69b46a7d"
      },
      "execution_count": null,
      "outputs": [
        {
          "output_type": "display_data",
          "data": {
            "text/plain": [
              "<Figure size 576x360 with 1 Axes>"
            ],
            "image/png": "[encoded data removed]"
          },
          "metadata": {
            "needs_background": "light"
          }
        }
      ]
    },
    {
      "cell_type": "code",
      "source": [
        "g_simple = 4*np.pi**2/coef_lin[0]*1e-2\n",
        "print(g_simple)\n",
        "error = (g_theory-g_simple)/g_theory*100\n",
        "print(error)"
      ],
      "metadata": {
        "colab": {
          "base_uri": "https://localhost:8080/"
        },
        "id": "IkYuzIOchrpN",
        "outputId": "fec236d4-8b2e-4f40-d7d0-ba1fa7c86988"
      },
      "execution_count": null,
      "outputs": [
        {
          "output_type": "stream",
          "name": "stdout",
          "text": [
            "9.80223467058197\n",
            "0.18090966820804025\n"
          ]
        }
      ]
    },
    {
      "cell_type": "code",
      "source": [
        "coef_lin[0]"
      ],
      "metadata": {
        "colab": {
          "base_uri": "https://localhost:8080/"
        },
        "id": "QSnbFi0qs9Q-",
        "outputId": "4c594845-b473-4057-c6c7-c332a32abba7"
      },
      "execution_count": null,
      "outputs": [
        {
          "output_type": "execute_result",
          "data": {
            "text/plain": [
              "0.04027491580347316"
            ]
          },
          "metadata": {},
          "execution_count": 66
        }
      ]
    },
    {
      "cell_type": "code",
      "source": [
        ""
      ],
      "metadata": {
        "id": "pBS6IhMOkk7a"
      },
      "execution_count": null,
      "outputs": []
    }
  ]
}