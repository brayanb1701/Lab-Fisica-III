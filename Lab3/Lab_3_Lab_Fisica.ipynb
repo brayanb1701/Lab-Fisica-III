{
  "nbformat": 4,
  "nbformat_minor": 0,
  "metadata": {
    "colab": {
      "name": "Lab 3 - Lab Fisica.ipynb",
      "provenance": [],
      "collapsed_sections": [],
      "authorship_tag": "ABX9TyMhQV5xleDDoj2mS/ils+LH",
      "include_colab_link": true
    },
    "kernelspec": {
      "name": "python3",
      "display_name": "Python 3"
    },
    "language_info": {
      "name": "python"
    }
  },
  "cells": [
    {
      "cell_type": "markdown",
      "metadata": {
        "id": "view-in-github",
        "colab_type": "text"
      },
      "source": [
        "<a href=\"https://colab.research.google.com/github/brayanb1701/Fisica-3-Lab-3/blob/main/Lab_3_Lab_Fisica.ipynb\" target=\"_parent\"><img src=\"https://colab.research.google.com/assets/colab-badge.svg\" alt=\"Open In Colab\"/></a>"
      ]
    },
    {
      "cell_type": "code",
      "execution_count": null,
      "metadata": {
        "id": "bpMK2gT6mgUn"
      },
      "outputs": [],
      "source": [
        "import pandas as pd\n",
        "import numpy as np\n",
        "import matplotlib.pyplot as plt\n",
        "import os\n",
        "from scipy.optimize import curve_fit,fsolve, fmin, minimize_scalar\n",
        "from sklearn.metrics import r2_score, mean_squared_error"
      ]
    },
    {
      "cell_type": "code",
      "source": [
        "MAA_A = pd.read_excel(\"Datos_Lab_3.xlsx\", 'Fase 2')\n",
        "MAA_A"
      ],
      "metadata": {
        "colab": {
          "base_uri": "https://localhost:8080/",
          "height": 363
        },
        "id": "ozbbJe-GmnDQ",
        "outputId": "97e4526a-12d3-4c7e-df1e-f42081419430"
      },
      "execution_count": null,
      "outputs": [
        {
          "output_type": "execute_result",
          "data": {
            "text/plain": [
              "   Ciclo  A1-0  A2-0   A3-0  A1-0.2  A2-0.2  A3-0.2  A1-0.4  A2-0.4  A3-0.4  \\\n",
              "0      1  13.8  13.8  13.80    12.8    12.8    12.8    10.2    10.4    10.4   \n",
              "1      2  13.6  13.6  13.65    11.8    11.6    11.6     7.4     7.8     7.4   \n",
              "2      3  13.4  13.4  13.40    10.8    10.6    10.6     5.6     5.8     5.8   \n",
              "3      4  13.2  13.2  13.20     9.8     9.6     9.7     4.2     4.2     4.2   \n",
              "4      5  12.8  13.0  13.00     9.0     8.8     8.8     3.1     3.1     3.0   \n",
              "5      6  12.6  12.8  12.80     NaN     NaN     NaN     NaN     NaN     NaN   \n",
              "6      7  12.4  12.6  12.60     NaN     NaN     NaN     NaN     NaN     NaN   \n",
              "7      8  12.2  12.4  12.40     NaN     NaN     NaN     NaN     NaN     NaN   \n",
              "8      9  12.0  12.2  12.12     NaN     NaN     NaN     NaN     NaN     NaN   \n",
              "9     10  11.8  12.1  11.80     NaN     NaN     NaN     NaN     NaN     NaN   \n",
              "\n",
              "   A1-0.6  A2-0.6  A3-0.6         A0       A0.2       A0.4      A0.6  \n",
              "0     7.4     7.4     7.4  13.800000  12.800000  10.333333  7.400000  \n",
              "1     3.8     4.0     4.0  13.616667  11.666667   7.533333  3.933333  \n",
              "2     2.0     2.0     2.0  13.400000  10.666667   5.733333  2.000000  \n",
              "3     0.8     0.8     1.0  13.200000   9.700000   4.200000  0.866667  \n",
              "4     0.1     0.3     0.3  12.933333   8.866667   3.066667  0.233333  \n",
              "5     NaN     NaN     NaN  12.733333        NaN        NaN       NaN  \n",
              "6     NaN     NaN     NaN  12.533333        NaN        NaN       NaN  \n",
              "7     NaN     NaN     NaN  12.333333        NaN        NaN       NaN  \n",
              "8     NaN     NaN     NaN  12.106667        NaN        NaN       NaN  \n",
              "9     NaN     NaN     NaN  11.900000        NaN        NaN       NaN  "
            ],
            "text/html": [
              "\n",
              "  <div id=\"df-6cfae98a-61b1-41a7-a4a8-fcb89d6cae95\">\n",
              "    <div class=\"colab-df-container\">\n",
              "      <div>\n",
              "<style scoped>\n",
              "    .dataframe tbody tr th:only-of-type {\n",
              "        vertical-align: middle;\n",
              "    }\n",
              "\n",
              "    .dataframe tbody tr th {\n",
              "        vertical-align: top;\n",
              "    }\n",
              "\n",
              "    .dataframe thead th {\n",
              "        text-align: right;\n",
              "    }\n",
              "</style>\n",
              "<table border=\"1\" class=\"dataframe\">\n",
              "  <thead>\n",
              "    <tr style=\"text-align: right;\">\n",
              "      <th></th>\n",
              "      <th>Ciclo</th>\n",
              "      <th>A1-0</th>\n",
              "      <th>A2-0</th>\n",
              "      <th>A3-0</th>\n",
              "      <th>A1-0.2</th>\n",
              "      <th>A2-0.2</th>\n",
              "      <th>A3-0.2</th>\n",
              "      <th>A1-0.4</th>\n",
              "      <th>A2-0.4</th>\n",
              "      <th>A3-0.4</th>\n",
              "      <th>A1-0.6</th>\n",
              "      <th>A2-0.6</th>\n",
              "      <th>A3-0.6</th>\n",
              "      <th>A0</th>\n",
              "      <th>A0.2</th>\n",
              "      <th>A0.4</th>\n",
              "      <th>A0.6</th>\n",
              "    </tr>\n",
              "  </thead>\n",
              "  <tbody>\n",
              "    <tr>\n",
              "      <th>0</th>\n",
              "      <td>1</td>\n",
              "      <td>13.8</td>\n",
              "      <td>13.8</td>\n",
              "      <td>13.80</td>\n",
              "      <td>12.8</td>\n",
              "      <td>12.8</td>\n",
              "      <td>12.8</td>\n",
              "      <td>10.2</td>\n",
              "      <td>10.4</td>\n",
              "      <td>10.4</td>\n",
              "      <td>7.4</td>\n",
              "      <td>7.4</td>\n",
              "      <td>7.4</td>\n",
              "      <td>13.800000</td>\n",
              "      <td>12.800000</td>\n",
              "      <td>10.333333</td>\n",
              "      <td>7.400000</td>\n",
              "    </tr>\n",
              "    <tr>\n",
              "      <th>1</th>\n",
              "      <td>2</td>\n",
              "      <td>13.6</td>\n",
              "      <td>13.6</td>\n",
              "      <td>13.65</td>\n",
              "      <td>11.8</td>\n",
              "      <td>11.6</td>\n",
              "      <td>11.6</td>\n",
              "      <td>7.4</td>\n",
              "      <td>7.8</td>\n",
              "      <td>7.4</td>\n",
              "      <td>3.8</td>\n",
              "      <td>4.0</td>\n",
              "      <td>4.0</td>\n",
              "      <td>13.616667</td>\n",
              "      <td>11.666667</td>\n",
              "      <td>7.533333</td>\n",
              "      <td>3.933333</td>\n",
              "    </tr>\n",
              "    <tr>\n",
              "      <th>2</th>\n",
              "      <td>3</td>\n",
              "      <td>13.4</td>\n",
              "      <td>13.4</td>\n",
              "      <td>13.40</td>\n",
              "      <td>10.8</td>\n",
              "      <td>10.6</td>\n",
              "      <td>10.6</td>\n",
              "      <td>5.6</td>\n",
              "      <td>5.8</td>\n",
              "      <td>5.8</td>\n",
              "      <td>2.0</td>\n",
              "      <td>2.0</td>\n",
              "      <td>2.0</td>\n",
              "      <td>13.400000</td>\n",
              "      <td>10.666667</td>\n",
              "      <td>5.733333</td>\n",
              "      <td>2.000000</td>\n",
              "    </tr>\n",
              "    <tr>\n",
              "      <th>3</th>\n",
              "      <td>4</td>\n",
              "      <td>13.2</td>\n",
              "      <td>13.2</td>\n",
              "      <td>13.20</td>\n",
              "      <td>9.8</td>\n",
              "      <td>9.6</td>\n",
              "      <td>9.7</td>\n",
              "      <td>4.2</td>\n",
              "      <td>4.2</td>\n",
              "      <td>4.2</td>\n",
              "      <td>0.8</td>\n",
              "      <td>0.8</td>\n",
              "      <td>1.0</td>\n",
              "      <td>13.200000</td>\n",
              "      <td>9.700000</td>\n",
              "      <td>4.200000</td>\n",
              "      <td>0.866667</td>\n",
              "    </tr>\n",
              "    <tr>\n",
              "      <th>4</th>\n",
              "      <td>5</td>\n",
              "      <td>12.8</td>\n",
              "      <td>13.0</td>\n",
              "      <td>13.00</td>\n",
              "      <td>9.0</td>\n",
              "      <td>8.8</td>\n",
              "      <td>8.8</td>\n",
              "      <td>3.1</td>\n",
              "      <td>3.1</td>\n",
              "      <td>3.0</td>\n",
              "      <td>0.1</td>\n",
              "      <td>0.3</td>\n",
              "      <td>0.3</td>\n",
              "      <td>12.933333</td>\n",
              "      <td>8.866667</td>\n",
              "      <td>3.066667</td>\n",
              "      <td>0.233333</td>\n",
              "    </tr>\n",
              "    <tr>\n",
              "      <th>5</th>\n",
              "      <td>6</td>\n",
              "      <td>12.6</td>\n",
              "      <td>12.8</td>\n",
              "      <td>12.80</td>\n",
              "      <td>NaN</td>\n",
              "      <td>NaN</td>\n",
              "      <td>NaN</td>\n",
              "      <td>NaN</td>\n",
              "      <td>NaN</td>\n",
              "      <td>NaN</td>\n",
              "      <td>NaN</td>\n",
              "      <td>NaN</td>\n",
              "      <td>NaN</td>\n",
              "      <td>12.733333</td>\n",
              "      <td>NaN</td>\n",
              "      <td>NaN</td>\n",
              "      <td>NaN</td>\n",
              "    </tr>\n",
              "    <tr>\n",
              "      <th>6</th>\n",
              "      <td>7</td>\n",
              "      <td>12.4</td>\n",
              "      <td>12.6</td>\n",
              "      <td>12.60</td>\n",
              "      <td>NaN</td>\n",
              "      <td>NaN</td>\n",
              "      <td>NaN</td>\n",
              "      <td>NaN</td>\n",
              "      <td>NaN</td>\n",
              "      <td>NaN</td>\n",
              "      <td>NaN</td>\n",
              "      <td>NaN</td>\n",
              "      <td>NaN</td>\n",
              "      <td>12.533333</td>\n",
              "      <td>NaN</td>\n",
              "      <td>NaN</td>\n",
              "      <td>NaN</td>\n",
              "    </tr>\n",
              "    <tr>\n",
              "      <th>7</th>\n",
              "      <td>8</td>\n",
              "      <td>12.2</td>\n",
              "      <td>12.4</td>\n",
              "      <td>12.40</td>\n",
              "      <td>NaN</td>\n",
              "      <td>NaN</td>\n",
              "      <td>NaN</td>\n",
              "      <td>NaN</td>\n",
              "      <td>NaN</td>\n",
              "      <td>NaN</td>\n",
              "      <td>NaN</td>\n",
              "      <td>NaN</td>\n",
              "      <td>NaN</td>\n",
              "      <td>12.333333</td>\n",
              "      <td>NaN</td>\n",
              "      <td>NaN</td>\n",
              "      <td>NaN</td>\n",
              "    </tr>\n",
              "    <tr>\n",
              "      <th>8</th>\n",
              "      <td>9</td>\n",
              "      <td>12.0</td>\n",
              "      <td>12.2</td>\n",
              "      <td>12.12</td>\n",
              "      <td>NaN</td>\n",
              "      <td>NaN</td>\n",
              "      <td>NaN</td>\n",
              "      <td>NaN</td>\n",
              "      <td>NaN</td>\n",
              "      <td>NaN</td>\n",
              "      <td>NaN</td>\n",
              "      <td>NaN</td>\n",
              "      <td>NaN</td>\n",
              "      <td>12.106667</td>\n",
              "      <td>NaN</td>\n",
              "      <td>NaN</td>\n",
              "      <td>NaN</td>\n",
              "    </tr>\n",
              "    <tr>\n",
              "      <th>9</th>\n",
              "      <td>10</td>\n",
              "      <td>11.8</td>\n",
              "      <td>12.1</td>\n",
              "      <td>11.80</td>\n",
              "      <td>NaN</td>\n",
              "      <td>NaN</td>\n",
              "      <td>NaN</td>\n",
              "      <td>NaN</td>\n",
              "      <td>NaN</td>\n",
              "      <td>NaN</td>\n",
              "      <td>NaN</td>\n",
              "      <td>NaN</td>\n",
              "      <td>NaN</td>\n",
              "      <td>11.900000</td>\n",
              "      <td>NaN</td>\n",
              "      <td>NaN</td>\n",
              "      <td>NaN</td>\n",
              "    </tr>\n",
              "  </tbody>\n",
              "</table>\n",
              "</div>\n",
              "      <button class=\"colab-df-convert\" onclick=\"convertToInteractive('df-6cfae98a-61b1-41a7-a4a8-fcb89d6cae95')\"\n",
              "              title=\"Convert this dataframe to an interactive table.\"\n",
              "              style=\"display:none;\">\n",
              "        \n",
              "  <svg xmlns=\"http://www.w3.org/2000/svg\" height=\"24px\"viewBox=\"0 0 24 24\"\n",
              "       width=\"24px\">\n",
              "    <path d=\"M0 0h24v24H0V0z\" fill=\"none\"/>\n",
              "    <path d=\"M18.56 5.44l.94 2.06.94-2.06 2.06-.94-2.06-.94-.94-2.06-.94 2.06-2.06.94zm-11 1L8.5 8.5l.94-2.06 2.06-.94-2.06-.94L8.5 2.5l-.94 2.06-2.06.94zm10 10l.94 2.06.94-2.06 2.06-.94-2.06-.94-.94-2.06-.94 2.06-2.06.94z\"/><path d=\"M17.41 7.96l-1.37-1.37c-.4-.4-.92-.59-1.43-.59-.52 0-1.04.2-1.43.59L10.3 9.45l-7.72 7.72c-.78.78-.78 2.05 0 2.83L4 21.41c.39.39.9.59 1.41.59.51 0 1.02-.2 1.41-.59l7.78-7.78 2.81-2.81c.8-.78.8-2.07 0-2.86zM5.41 20L4 18.59l7.72-7.72 1.47 1.35L5.41 20z\"/>\n",
              "  </svg>\n",
              "      </button>\n",
              "      \n",
              "  <style>\n",
              "    .colab-df-container {\n",
              "      display:flex;\n",
              "      flex-wrap:wrap;\n",
              "      gap: 12px;\n",
              "    }\n",
              "\n",
              "    .colab-df-convert {\n",
              "      background-color: #E8F0FE;\n",
              "      border: none;\n",
              "      border-radius: 50%;\n",
              "      cursor: pointer;\n",
              "      display: none;\n",
              "      fill: #1967D2;\n",
              "      height: 32px;\n",
              "      padding: 0 0 0 0;\n",
              "      width: 32px;\n",
              "    }\n",
              "\n",
              "    .colab-df-convert:hover {\n",
              "      background-color: #E2EBFA;\n",
              "      box-shadow: 0px 1px 2px rgba(60, 64, 67, 0.3), 0px 1px 3px 1px rgba(60, 64, 67, 0.15);\n",
              "      fill: #174EA6;\n",
              "    }\n",
              "\n",
              "    [theme=dark] .colab-df-convert {\n",
              "      background-color: #3B4455;\n",
              "      fill: #D2E3FC;\n",
              "    }\n",
              "\n",
              "    [theme=dark] .colab-df-convert:hover {\n",
              "      background-color: #434B5C;\n",
              "      box-shadow: 0px 1px 3px 1px rgba(0, 0, 0, 0.15);\n",
              "      filter: drop-shadow(0px 1px 2px rgba(0, 0, 0, 0.3));\n",
              "      fill: #FFFFFF;\n",
              "    }\n",
              "  </style>\n",
              "\n",
              "      <script>\n",
              "        const buttonEl =\n",
              "          document.querySelector('#df-6cfae98a-61b1-41a7-a4a8-fcb89d6cae95 button.colab-df-convert');\n",
              "        buttonEl.style.display =\n",
              "          google.colab.kernel.accessAllowed ? 'block' : 'none';\n",
              "\n",
              "        async function convertToInteractive(key) {\n",
              "          const element = document.querySelector('#df-6cfae98a-61b1-41a7-a4a8-fcb89d6cae95');\n",
              "          const dataTable =\n",
              "            await google.colab.kernel.invokeFunction('convertToInteractive',\n",
              "                                                     [key], {});\n",
              "          if (!dataTable) return;\n",
              "\n",
              "          const docLinkHtml = 'Like what you see? Visit the ' +\n",
              "            '<a target=\"_blank\" href=https://colab.research.google.com/notebooks/data_table.ipynb>data table notebook</a>'\n",
              "            + ' to learn more about interactive tables.';\n",
              "          element.innerHTML = '';\n",
              "          dataTable['output_type'] = 'display_data';\n",
              "          await google.colab.output.renderOutput(dataTable, element);\n",
              "          const docLink = document.createElement('div');\n",
              "          docLink.innerHTML = docLinkHtml;\n",
              "          element.appendChild(docLink);\n",
              "        }\n",
              "      </script>\n",
              "    </div>\n",
              "  </div>\n",
              "  "
            ]
          },
          "metadata": {},
          "execution_count": 193
        }
      ]
    },
    {
      "cell_type": "code",
      "source": [
        "MAA_Al = np.array([np.array(MAA_A['A0'][0:10]),np.array(MAA_A['A0.2'][0:5]),np.array(MAA_A['A0.4'][0:5]),np.array(MAA_A['A0.6'][0:5])],dtype='object')\n",
        "print(MAA_Al)"
      ],
      "metadata": {
        "colab": {
          "base_uri": "https://localhost:8080/"
        },
        "id": "4kZ0bOXKqYw2",
        "outputId": "0137f3ba-9060-457d-bbcd-edc25ec1730c"
      },
      "execution_count": null,
      "outputs": [
        {
          "output_type": "stream",
          "name": "stdout",
          "text": [
            "[array([13.8       , 13.61666667, 13.4       , 13.2       , 12.93333333,\n",
            "        12.73333333, 12.53333333, 12.33333333, 12.10666667, 11.9       ])\n",
            " array([12.8       , 11.66666667, 10.66666667,  9.7       ,  8.86666667])\n",
            " array([10.33333333,  7.53333333,  5.73333333,  4.2       ,  3.06666667])\n",
            " array([7.4       , 3.93333333, 2.        , 0.86666667, 0.23333333])]\n"
          ]
        }
      ]
    },
    {
      "cell_type": "code",
      "source": [
        "MAA_T = pd.read_excel(\"Datos_Lab_3.xlsx\", 'Fase 3')\n",
        "MAA_T = np.array([MAA_T['T0'][0], MAA_T['T0.2'][0], MAA_T['T0.4'][0], MAA_T['T0.6'][0]])\n",
        "print(MAA_T)"
      ],
      "metadata": {
        "colab": {
          "base_uri": "https://localhost:8080/"
        },
        "id": "_sdvUT5Dmz9O",
        "outputId": "48f4677c-ffe2-44de-ca45-36ce46463ce5"
      },
      "execution_count": null,
      "outputs": [
        {
          "output_type": "stream",
          "name": "stdout",
          "text": [
            "[1.85366667 1.86488    1.88336    1.89662   ]\n"
          ]
        }
      ]
    },
    {
      "cell_type": "markdown",
      "source": [
        "## Calculando directamente el coeficiente de amortiguamiento y promediando estos:"
      ],
      "metadata": {
        "id": "Uw6p8973wuKa"
      }
    },
    {
      "cell_type": "code",
      "source": [
        "coef_amort = []\n",
        "for idx,A_l in enumerate(MAA_Al):\n",
        "  coef_am = []\n",
        "  for idx2,j in enumerate(A_l[1:]):\n",
        "    coef_am.append(np.log(A_l[0]/j)/((idx2+1)*MAA_T[idx]))\n",
        "  coef_amort.append(np.array(coef_am))\n",
        "coef_amort = np.array(coef_amort, dtype='object')\n",
        "print(coef_amort)"
      ],
      "metadata": {
        "colab": {
          "base_uri": "https://localhost:8080/"
        },
        "id": "JqVuQmu5nqPL",
        "outputId": "0aeeb021-6b53-4ef8-9a79-7e0f9ace315d"
      },
      "execution_count": null,
      "outputs": [
        {
          "output_type": "stream",
          "name": "stdout",
          "text": [
            "[array([0.00721492, 0.00793397, 0.00799348, 0.00874761, 0.00867959,\n",
            "        0.00865643, 0.00865951, 0.00882793, 0.00887911])\n",
            " array([0.04971333, 0.04888292, 0.04956875, 0.04921848])\n",
            " array([0.16780504, 0.15639013, 0.15934118, 0.16125219])\n",
            " array([0.33322055, 0.34491169, 0.37691276, 0.45564837])]\n"
          ]
        }
      ]
    },
    {
      "cell_type": "code",
      "source": [
        "prom_coef_amort=[np.mean(i) for i in coef_amort]\n",
        "std_coef_amort=[np.std(i) for i in coef_amort]\n",
        "print('Coeficientes de amortiguamiento para cada corriente: '+str(prom_coef_amort))\n",
        "print('Desviaciones para cada coeficiente de amortiguamiento: '+str(std_coef_amort))"
      ],
      "metadata": {
        "colab": {
          "base_uri": "https://localhost:8080/"
        },
        "id": "XkDKMJ43ssZ1",
        "outputId": "a403e93e-495a-4976-811f-b1c3bd3e60ab"
      },
      "execution_count": null,
      "outputs": [
        {
          "output_type": "stream",
          "name": "stdout",
          "text": [
            "Coeficientes de amortiguamiento para cada corriente: [0.00839917461077515, 0.04934586933987224, 0.16119713377817896, 0.37767334214544096]\n",
            "Desviaciones para cada coeficiente de amortiguamiento: [0.000530369252192512, 0.0003222006039968305, 0.004189848834388506, 0.04777567333287964]\n"
          ]
        }
      ]
    },
    {
      "cell_type": "markdown",
      "source": [
        "## Calculando el decaimiento logaritmico, promediando y obteniendo a partir de esto el coeficiente de amortiguamiento (es equivalente al proceso anterior):"
      ],
      "metadata": {
        "id": "EceGy8J-w07K"
      }
    },
    {
      "cell_type": "code",
      "source": [
        "dec_logs = []\n",
        "for idx,A_l in enumerate(MAA_Al):\n",
        "  dec_log = []\n",
        "  for idx2,j in enumerate(A_l[1:]):\n",
        "    dec_log.append(np.log(A_l[0]/j)/((idx2+1)))\n",
        "  dec_logs.append(np.array(dec_log))\n",
        "dec_logs = np.array(dec_logs, dtype='object')\n",
        "print(dec_logs)\n",
        "\n",
        "mean_dec_logs=[np.mean(i) for i in dec_logs]\n",
        "std_dec_logs=[np.std(i) for i in dec_logs]\n",
        "print('Decaimiento logarítmico para cada corriente: '+str(mean_dec_logs))\n",
        "print('Desviación para cada decaimiento logarítmico: '+str(std_dec_logs))\n",
        "\n",
        "coef_amort = [mean_dec_logs[idx]/MAA_T[idx] for idx in range(4) ]\n",
        "std_coef_amort = [std_dec_logs[idx]/MAA_T[idx] for idx in range(4) ]\n",
        "print('Coeficientes de amortiguamiento para cada corriente: '+str(coef_amort))\n",
        "print('Desviaciones para cada coeficiente de amortiguamiento: '+str(std_coef_amort))"
      ],
      "metadata": {
        "colab": {
          "base_uri": "https://localhost:8080/"
        },
        "id": "ICdnay5GujGd",
        "outputId": "209ec537-50fc-4e69-ffa5-e6b4f1625067"
      },
      "execution_count": null,
      "outputs": [
        {
          "output_type": "stream",
          "name": "stdout",
          "text": [
            "[array([0.01337406, 0.01470694, 0.01481725, 0.01621516, 0.01608907,\n",
            "        0.01604614, 0.01605185, 0.01636404, 0.01645891])\n",
            " array([0.0927094 , 0.09116078, 0.09243976, 0.09178656])\n",
            " array([0.3160373 , 0.29453891, 0.3000968 , 0.30369593])\n",
            " array([0.63199276, 0.65416641, 0.71486028, 0.86419181])]\n",
            "Decaimiento logarítmico para cada corriente: [0.015569270003506866, 0.09202412481454095, 0.3035922338724712, 0.7163028141798863]\n",
            "Desviación para cada decaimiento logarítmico: [0.0009831278038141867, 0.0006008654623816122, 0.007890993700733925, 0.09061229755660617]\n",
            "Coeficientes de amortiguamiento para cada corriente: [0.008399174610775148, 0.04934586933987224, 0.16119713377817899, 0.377673342145441]\n",
            "Desviaciones para cada coeficiente de amortiguamiento: [0.0005303692521925123, 0.00032220060399683207, 0.0041898488343885, 0.04777567333287964]\n"
          ]
        }
      ]
    },
    {
      "cell_type": "code",
      "source": [
        "def exponential(t, A0, coef):\n",
        "    return A0*np.exp(-coef*t)\n",
        "def exponential2(t, coef):\n",
        "    return 14*np.exp(-coef*t)\n",
        "coef_amort_ajuste1 = []\n",
        "coef_amort_ajuste2 = []\n",
        "for idx,A_l in enumerate(MAA_Al):\n",
        "  t=np.array([(i+1)*MAA_T[idx] for i in range(len(A_l))])\n",
        "  coef1, pcov1 = curve_fit(exponential, t, A_l)\n",
        "  coef2, pcov2 = curve_fit(exponential2, t, A_l)\n",
        "  coef_amort_ajuste1.append(coef1[1])\n",
        "  coef_amort_ajuste2.append(coef2[0])\n",
        "  R_S1 = r2_score(A_l,exponential(t, *coef1))\n",
        "  RMSE1 = mean_squared_error(A_l,exponential(t, *coef1), squared=False)\n",
        "  print(\"R^2 y RMSE para 1: \"+str(R_S1)+\" \"+str(RMSE1))\n",
        "  print(\"Coeficiente de amortiguamiento para 1: \"+str(coef1))\n",
        "\n",
        "  R_S2 = r2_score(A_l,exponential2(t, *coef2))\n",
        "  RMSE2 = mean_squared_error(A_l,exponential2(t, *coef2), squared=False)\n",
        "  print(\"R^2 y RMSE para 2: \"+str(R_S2)+\" \"+str(RMSE2))\n",
        "  print(\"Coeficiente de amortiguamiento para 2: \"+str(coef2)+\"\\n\")\n"
      ],
      "metadata": {
        "colab": {
          "base_uri": "https://localhost:8080/"
        },
        "id": "XVQJwUVJv03I",
        "outputId": "2b3e22aa-c9f3-464b-f51d-c47fde83a08b"
      },
      "execution_count": null,
      "outputs": [
        {
          "output_type": "stream",
          "name": "stdout",
          "text": [
            "R^2 y RMSE para 1: 0.9990034057910947 0.019351952560434905\n",
            "Coeficiente de amortiguamiento para 1: [1.40679333e+01 8.95007204e-03]\n",
            "R^2 y RMSE para 2: 0.9966227529279021 0.03562435648554416\n",
            "Coeficiente de amortiguamiento para 2: [0.00856629]\n",
            "\n",
            "R^2 y RMSE para 1: 0.9999386751075338 0.01090660066564866\n",
            "Coeficiente de amortiguamiento para 1: [14.0304016   0.04927583]\n",
            "R^2 y RMSE para 2: 0.9998773251448481 0.015425838897774075\n",
            "Coeficiente de amortiguamiento para 2: [0.0489302]\n",
            "\n",
            "R^2 y RMSE para 1: 0.9994404364438616 0.06067356584719862\n",
            "Coeficiente de amortiguamiento para 1: [13.91422893  0.15949967]\n",
            "R^2 y RMSE para 2: 0.9993745596618216 0.06414573013191403\n",
            "Coeficiente de amortiguamiento para 2: [0.1607447]\n",
            "\n",
            "R^2 y RMSE para 1: 0.9966546949786216 0.14942623998191995\n",
            "Coeficiente de amortiguamiento para 1: [14.69543589  0.35736734]\n",
            "R^2 y RMSE para 2: 0.9955630335507741 0.17208859132938203\n",
            "Coeficiente de amortiguamiento para 2: [0.34254851]\n",
            "\n"
          ]
        },
        {
          "output_type": "stream",
          "name": "stderr",
          "text": [
            "/usr/local/lib/python3.7/dist-packages/ipykernel_launcher.py:2: RuntimeWarning: overflow encountered in exp\n",
            "  \n",
            "/usr/local/lib/python3.7/dist-packages/ipykernel_launcher.py:2: RuntimeWarning: overflow encountered in exp\n",
            "  \n",
            "/usr/local/lib/python3.7/dist-packages/ipykernel_launcher.py:2: RuntimeWarning: overflow encountered in exp\n",
            "  \n"
          ]
        }
      ]
    },
    {
      "cell_type": "code",
      "source": [
        "for idx,A_l in enumerate(MAA_Al):\n",
        "  t=np.array([(i+1)*MAA_T[idx] for i in range(len(A_l))])\n",
        "\n",
        "  R_S1 = r2_score(A_l,exponential(t, 14,coef_amort[idx]))\n",
        "  RMSE1 = mean_squared_error(A_l,exponential(t, 14,coef_amort[idx]), squared=False)\n",
        "  print(\"R^2 y RMSE para 1: \"+str(R_S1)+\" \"+str(RMSE1))\n",
        "  \n",
        "  R_S2 = r2_score(A_l,exponential2(t, coef_amort[idx]))\n",
        "  RMSE2 = mean_squared_error(A_l,exponential2(t, coef_amort[idx]), squared=False)\n",
        "  print(\"R^2 y RMSE para 2: \"+str(R_S2)+\" \"+str(RMSE2)+\"\\n\")"
      ],
      "metadata": {
        "colab": {
          "base_uri": "https://localhost:8080/"
        },
        "id": "mo_gKmNr0zAq",
        "outputId": "53929427-6cd6-412a-eda8-d74dfc3a4a05"
      },
      "execution_count": null,
      "outputs": [
        {
          "output_type": "stream",
          "name": "stdout",
          "text": [
            "R^2 y RMSE para 1: 0.9951132390808243 0.04285249936366125\n",
            "R^2 y RMSE para 2: 0.9951132390808243 0.04285249936366125\n",
            "\n",
            "R^2 y RMSE para 1: 0.9995556003948167 0.029360121380780344\n",
            "R^2 y RMSE para 2: 0.9995556003948167 0.029360121380780344\n",
            "\n",
            "R^2 y RMSE para 1: 0.9993494408047136 0.06542115672847923\n",
            "R^2 y RMSE para 2: 0.9993494408047136 0.06542115672847923\n",
            "\n",
            "R^2 y RMSE para 1: 0.9751825324198115 0.4069937488639461\n",
            "R^2 y RMSE para 2: 0.9751825324198115 0.4069937488639461\n",
            "\n"
          ]
        }
      ]
    },
    {
      "cell_type": "code",
      "source": [
        "fig, axs = plt.subplots(2, 2,figsize=(12,10),constrained_layout=True)\n",
        "corr=[0,0.2,0.4,0.6]\n",
        "for idx,A_l in enumerate(MAA_Al):\n",
        "  t0=np.array([(i+1)*MAA_T[idx] for i in range(len(A_l))])\n",
        "  t=np.linspace(0,len(A_l)*MAA_T[idx],100)\n",
        "  if idx<=1:\n",
        "    axs[0, idx].plot(t, exponential2(t,coef_amort_ajuste2[idx]),color='black',linestyle='--', label='Ajuste a la curva')\n",
        "    axs[0, idx].plot(t, exponential2(t,coef_amort[idx]),color='orange',linestyle='--', label='Por prom. dec. log.')\n",
        "    axs[0, idx].scatter(t0, A_l, color='r', label='Datos exp')\n",
        "    axs[0, idx].set(xlabel='Tiempo [s]', ylabel='Amplitud [cm]')\n",
        "    axs[0, idx].set_title('Amplitud vs Tiempo para I='+str(corr[idx])+\"[A]\")\n",
        "    axs[0, idx].legend()\n",
        "  else:\n",
        "    axs[1, idx-2].plot(t, exponential2(t,coef_amort_ajuste2[idx]),color='black',linestyle='--', label='Ajuste a la curva')\n",
        "    axs[1, idx-2].plot(t, exponential2(t,coef_amort[idx]),color='orange',linestyle='--', label='Por prom. dec. log.')\n",
        "    axs[1, idx-2].scatter(t0, A_l, color='r', label='Datos exp')\n",
        "    axs[1, idx-2].set(xlabel='Tiempo [s]', ylabel='Amplitud [cm]')\n",
        "    axs[1, idx-2].set_title('Amplitud vs Tiempo para I='+str(corr[idx])+'[A]')\n",
        "    axs[1, idx-2].legend()\n",
        "    "
      ],
      "metadata": {
        "colab": {
          "base_uri": "https://localhost:8080/",
          "height": 745
        },
        "id": "Smi54ib25pk6",
        "outputId": "f9e55047-2c38-4d7b-a6ac-80cc654ac7c5"
      },
      "execution_count": null,
      "outputs": [
        {
          "output_type": "display_data",
          "data": {
            "text/plain": [
              "<Figure size 864x720 with 4 Axes>"
            ],
            "image/png": "[encoded data removed]"
          },
          "metadata": {
            "needs_background": "light"
          }
        }
      ]
    },
    {
      "cell_type": "markdown",
      "source": [
        "https://docs.scipy.org/doc/scipy/reference/generated/scipy.optimize.least_squares.html#scipy.optimize.least_squares\n",
        "\n",
        "https://docs.scipy.org/doc/scipy/reference/generated/scipy.optimize.curve_fit.html\n",
        "\n"
      ],
      "metadata": {
        "id": "OLDWrZbvA-Tf"
      }
    },
    {
      "cell_type": "code",
      "source": [
        "MAF = pd.read_excel(\"Datos_Lab_3.xlsx\", 'Fase 4')\n",
        "MAF"
      ],
      "metadata": {
        "id": "Kk3hbQd-9s_F",
        "colab": {
          "base_uri": "https://localhost:8080/",
          "height": 300
        },
        "outputId": "98314adc-f0f6-4798-85b3-9a886b8242bb"
      },
      "execution_count": null,
      "outputs": [
        {
          "output_type": "execute_result",
          "data": {
            "text/plain": [
              "      t0        w0    A0   t0.2      w0.2  A0.2   t0.4      w0.4  A0.4   t0.6  \\\n",
              "0  23.74  1.323333   0.3  20.73  3.030963  1.40  24.86  2.527428   1.1  25.15   \n",
              "1  23.00  2.731820   1.2  19.48  3.225454  3.50  22.36  2.810011   1.6  21.03   \n",
              "2  22.60  2.780170   2.5  18.59  3.379874  8.80  21.44  2.930590   2.4  19.92   \n",
              "3  18.89  3.326197   3.5  17.74  3.541818  2.20  18.65  3.369000   4.8  18.83   \n",
              "4  18.70  3.359992   7.2  17.41  3.608952  1.59  17.79  3.531864   2.6  18.40   \n",
              "5  18.58  3.381693  20.0  17.00  3.695991  1.00  17.44  3.602744   2.3  16.63   \n",
              "6  15.75  3.989324   2.5  15.52  4.048444  0.50  15.29  4.109343   0.9  15.89   \n",
              "7  13.56  4.633617   0.3  13.39  4.692446  0.30  13.38  4.695953   0.6  13.23   \n",
              "\n",
              "       w0.6  A0.6  \n",
              "0  2.498284   1.0  \n",
              "1  2.987725   1.8  \n",
              "2  3.154209   2.0  \n",
              "3  3.336795   2.1  \n",
              "4  3.414775   2.0  \n",
              "5  3.778223   1.1  \n",
              "6  3.954176   0.8  \n",
              "7  4.749195   0.4  "
            ],
            "text/html": [
              "\n",
              "  <div id=\"df-99b691a3-79b0-41f7-942c-0701817d8923\">\n",
              "    <div class=\"colab-df-container\">\n",
              "      <div>\n",
              "<style scoped>\n",
              "    .dataframe tbody tr th:only-of-type {\n",
              "        vertical-align: middle;\n",
              "    }\n",
              "\n",
              "    .dataframe tbody tr th {\n",
              "        vertical-align: top;\n",
              "    }\n",
              "\n",
              "    .dataframe thead th {\n",
              "        text-align: right;\n",
              "    }\n",
              "</style>\n",
              "<table border=\"1\" class=\"dataframe\">\n",
              "  <thead>\n",
              "    <tr style=\"text-align: right;\">\n",
              "      <th></th>\n",
              "      <th>t0</th>\n",
              "      <th>w0</th>\n",
              "      <th>A0</th>\n",
              "      <th>t0.2</th>\n",
              "      <th>w0.2</th>\n",
              "      <th>A0.2</th>\n",
              "      <th>t0.4</th>\n",
              "      <th>w0.4</th>\n",
              "      <th>A0.4</th>\n",
              "      <th>t0.6</th>\n",
              "      <th>w0.6</th>\n",
              "      <th>A0.6</th>\n",
              "    </tr>\n",
              "  </thead>\n",
              "  <tbody>\n",
              "    <tr>\n",
              "      <th>0</th>\n",
              "      <td>23.74</td>\n",
              "      <td>1.323333</td>\n",
              "      <td>0.3</td>\n",
              "      <td>20.73</td>\n",
              "      <td>3.030963</td>\n",
              "      <td>1.40</td>\n",
              "      <td>24.86</td>\n",
              "      <td>2.527428</td>\n",
              "      <td>1.1</td>\n",
              "      <td>25.15</td>\n",
              "      <td>2.498284</td>\n",
              "      <td>1.0</td>\n",
              "    </tr>\n",
              "    <tr>\n",
              "      <th>1</th>\n",
              "      <td>23.00</td>\n",
              "      <td>2.731820</td>\n",
              "      <td>1.2</td>\n",
              "      <td>19.48</td>\n",
              "      <td>3.225454</td>\n",
              "      <td>3.50</td>\n",
              "      <td>22.36</td>\n",
              "      <td>2.810011</td>\n",
              "      <td>1.6</td>\n",
              "      <td>21.03</td>\n",
              "      <td>2.987725</td>\n",
              "      <td>1.8</td>\n",
              "    </tr>\n",
              "    <tr>\n",
              "      <th>2</th>\n",
              "      <td>22.60</td>\n",
              "      <td>2.780170</td>\n",
              "      <td>2.5</td>\n",
              "      <td>18.59</td>\n",
              "      <td>3.379874</td>\n",
              "      <td>8.80</td>\n",
              "      <td>21.44</td>\n",
              "      <td>2.930590</td>\n",
              "      <td>2.4</td>\n",
              "      <td>19.92</td>\n",
              "      <td>3.154209</td>\n",
              "      <td>2.0</td>\n",
              "    </tr>\n",
              "    <tr>\n",
              "      <th>3</th>\n",
              "      <td>18.89</td>\n",
              "      <td>3.326197</td>\n",
              "      <td>3.5</td>\n",
              "      <td>17.74</td>\n",
              "      <td>3.541818</td>\n",
              "      <td>2.20</td>\n",
              "      <td>18.65</td>\n",
              "      <td>3.369000</td>\n",
              "      <td>4.8</td>\n",
              "      <td>18.83</td>\n",
              "      <td>3.336795</td>\n",
              "      <td>2.1</td>\n",
              "    </tr>\n",
              "    <tr>\n",
              "      <th>4</th>\n",
              "      <td>18.70</td>\n",
              "      <td>3.359992</td>\n",
              "      <td>7.2</td>\n",
              "      <td>17.41</td>\n",
              "      <td>3.608952</td>\n",
              "      <td>1.59</td>\n",
              "      <td>17.79</td>\n",
              "      <td>3.531864</td>\n",
              "      <td>2.6</td>\n",
              "      <td>18.40</td>\n",
              "      <td>3.414775</td>\n",
              "      <td>2.0</td>\n",
              "    </tr>\n",
              "    <tr>\n",
              "      <th>5</th>\n",
              "      <td>18.58</td>\n",
              "      <td>3.381693</td>\n",
              "      <td>20.0</td>\n",
              "      <td>17.00</td>\n",
              "      <td>3.695991</td>\n",
              "      <td>1.00</td>\n",
              "      <td>17.44</td>\n",
              "      <td>3.602744</td>\n",
              "      <td>2.3</td>\n",
              "      <td>16.63</td>\n",
              "      <td>3.778223</td>\n",
              "      <td>1.1</td>\n",
              "    </tr>\n",
              "    <tr>\n",
              "      <th>6</th>\n",
              "      <td>15.75</td>\n",
              "      <td>3.989324</td>\n",
              "      <td>2.5</td>\n",
              "      <td>15.52</td>\n",
              "      <td>4.048444</td>\n",
              "      <td>0.50</td>\n",
              "      <td>15.29</td>\n",
              "      <td>4.109343</td>\n",
              "      <td>0.9</td>\n",
              "      <td>15.89</td>\n",
              "      <td>3.954176</td>\n",
              "      <td>0.8</td>\n",
              "    </tr>\n",
              "    <tr>\n",
              "      <th>7</th>\n",
              "      <td>13.56</td>\n",
              "      <td>4.633617</td>\n",
              "      <td>0.3</td>\n",
              "      <td>13.39</td>\n",
              "      <td>4.692446</td>\n",
              "      <td>0.30</td>\n",
              "      <td>13.38</td>\n",
              "      <td>4.695953</td>\n",
              "      <td>0.6</td>\n",
              "      <td>13.23</td>\n",
              "      <td>4.749195</td>\n",
              "      <td>0.4</td>\n",
              "    </tr>\n",
              "  </tbody>\n",
              "</table>\n",
              "</div>\n",
              "      <button class=\"colab-df-convert\" onclick=\"convertToInteractive('df-99b691a3-79b0-41f7-942c-0701817d8923')\"\n",
              "              title=\"Convert this dataframe to an interactive table.\"\n",
              "              style=\"display:none;\">\n",
              "        \n",
              "  <svg xmlns=\"http://www.w3.org/2000/svg\" height=\"24px\"viewBox=\"0 0 24 24\"\n",
              "       width=\"24px\">\n",
              "    <path d=\"M0 0h24v24H0V0z\" fill=\"none\"/>\n",
              "    <path d=\"M18.56 5.44l.94 2.06.94-2.06 2.06-.94-2.06-.94-.94-2.06-.94 2.06-2.06.94zm-11 1L8.5 8.5l.94-2.06 2.06-.94-2.06-.94L8.5 2.5l-.94 2.06-2.06.94zm10 10l.94 2.06.94-2.06 2.06-.94-2.06-.94-.94-2.06-.94 2.06-2.06.94z\"/><path d=\"M17.41 7.96l-1.37-1.37c-.4-.4-.92-.59-1.43-.59-.52 0-1.04.2-1.43.59L10.3 9.45l-7.72 7.72c-.78.78-.78 2.05 0 2.83L4 21.41c.39.39.9.59 1.41.59.51 0 1.02-.2 1.41-.59l7.78-7.78 2.81-2.81c.8-.78.8-2.07 0-2.86zM5.41 20L4 18.59l7.72-7.72 1.47 1.35L5.41 20z\"/>\n",
              "  </svg>\n",
              "      </button>\n",
              "      \n",
              "  <style>\n",
              "    .colab-df-container {\n",
              "      display:flex;\n",
              "      flex-wrap:wrap;\n",
              "      gap: 12px;\n",
              "    }\n",
              "\n",
              "    .colab-df-convert {\n",
              "      background-color: #E8F0FE;\n",
              "      border: none;\n",
              "      border-radius: 50%;\n",
              "      cursor: pointer;\n",
              "      display: none;\n",
              "      fill: #1967D2;\n",
              "      height: 32px;\n",
              "      padding: 0 0 0 0;\n",
              "      width: 32px;\n",
              "    }\n",
              "\n",
              "    .colab-df-convert:hover {\n",
              "      background-color: #E2EBFA;\n",
              "      box-shadow: 0px 1px 2px rgba(60, 64, 67, 0.3), 0px 1px 3px 1px rgba(60, 64, 67, 0.15);\n",
              "      fill: #174EA6;\n",
              "    }\n",
              "\n",
              "    [theme=dark] .colab-df-convert {\n",
              "      background-color: #3B4455;\n",
              "      fill: #D2E3FC;\n",
              "    }\n",
              "\n",
              "    [theme=dark] .colab-df-convert:hover {\n",
              "      background-color: #434B5C;\n",
              "      box-shadow: 0px 1px 3px 1px rgba(0, 0, 0, 0.15);\n",
              "      filter: drop-shadow(0px 1px 2px rgba(0, 0, 0, 0.3));\n",
              "      fill: #FFFFFF;\n",
              "    }\n",
              "  </style>\n",
              "\n",
              "      <script>\n",
              "        const buttonEl =\n",
              "          document.querySelector('#df-99b691a3-79b0-41f7-942c-0701817d8923 button.colab-df-convert');\n",
              "        buttonEl.style.display =\n",
              "          google.colab.kernel.accessAllowed ? 'block' : 'none';\n",
              "\n",
              "        async function convertToInteractive(key) {\n",
              "          const element = document.querySelector('#df-99b691a3-79b0-41f7-942c-0701817d8923');\n",
              "          const dataTable =\n",
              "            await google.colab.kernel.invokeFunction('convertToInteractive',\n",
              "                                                     [key], {});\n",
              "          if (!dataTable) return;\n",
              "\n",
              "          const docLinkHtml = 'Like what you see? Visit the ' +\n",
              "            '<a target=\"_blank\" href=https://colab.research.google.com/notebooks/data_table.ipynb>data table notebook</a>'\n",
              "            + ' to learn more about interactive tables.';\n",
              "          element.innerHTML = '';\n",
              "          dataTable['output_type'] = 'display_data';\n",
              "          await google.colab.output.renderOutput(dataTable, element);\n",
              "          const docLink = document.createElement('div');\n",
              "          docLink.innerHTML = docLinkHtml;\n",
              "          element.appendChild(docLink);\n",
              "        }\n",
              "      </script>\n",
              "    </div>\n",
              "  </div>\n",
              "  "
            ]
          },
          "metadata": {},
          "execution_count": 202
        }
      ]
    },
    {
      "cell_type": "code",
      "source": [
        "MAF_A = [MAF['A0'][:9],MAF['A0.2'][:9],MAF['A0.4'][:9],MAF['A0.6'][:9]]\n",
        "MAF_w = [MAF['w0'][:9],MAF['w0.2'][:9],MAF['w0.4'][:9],MAF['w0.6'][:9]]"
      ],
      "metadata": {
        "id": "iAatxtDLxU0o"
      },
      "execution_count": null,
      "outputs": []
    },
    {
      "cell_type": "code",
      "source": [
        "fig, axs = plt.subplots(2, 2,figsize=(12,10),constrained_layout=True)\n",
        "for idx,A_l in enumerate(MAF_A):\n",
        "  if idx<=1:\n",
        "    axs[0, idx].plot(MAF_w[idx], A_l,'o-',color='black', label='Amplitud vs frecuencia')\n",
        "    axs[0, idx].set(xlabel='Frecuencia [rad]', ylabel='Amplitud [cm]')\n",
        "    axs[0, idx].set_title('Amplitud vs Frecuencia')\n",
        "    axs[0, idx].legend()\n",
        "  else:\n",
        "    axs[1, idx-2].plot(MAF_w[idx], A_l, 'o-',color='black', label='Amplitud vs frecuencia')\n",
        "    axs[1, idx-2].set(xlabel='Frecuencia [rad]', ylabel='Amplitud [cm]')\n",
        "    axs[1, idx-2].set_title('Amplitud vs Frecuencia')\n",
        "    axs[1, idx-2].legend()"
      ],
      "metadata": {
        "colab": {
          "base_uri": "https://localhost:8080/",
          "height": 745
        },
        "id": "JZihOGTLzf5o",
        "outputId": "928214f9-e283-48b2-974b-9e1364640223"
      },
      "execution_count": null,
      "outputs": [
        {
          "output_type": "display_data",
          "data": {
            "text/plain": [
              "<Figure size 864x720 with 4 Axes>"
            ],
            "image/png": "[encoded data removed]"
          },
          "metadata": {
            "needs_background": "light"
          }
        }
      ]
    },
    {
      "cell_type": "code",
      "source": [
        "corrientes = [0, 0.2, 0.4, 0.6]\n",
        "for idx,A_l in enumerate(MAF_A):\n",
        "    plt.plot(MAF_w[idx], A_l,'o-', label='I='+str(corrientes[idx])+'[A]')\n",
        "    plt.xlabel('Frecuencia [rad]')\n",
        "    plt.ylabel('Amplitud [cm]')\n",
        "    plt.title('Amplitud vs Frecuencia')\n",
        "    plt.xlim([2.5,4.5])\n",
        "    plt.legend()"
      ],
      "metadata": {
        "colab": {
          "base_uri": "https://localhost:8080/",
          "height": 295
        },
        "id": "vIFwfaov0k2A",
        "outputId": "9951ff9b-b5a9-4bc0-dbee-a2caf10b240a"
      },
      "execution_count": null,
      "outputs": [
        {
          "output_type": "display_data",
          "data": {
            "text/plain": [
              "<Figure size 432x288 with 1 Axes>"
            ],
            "image/png": "[encoded data removed]"
          },
          "metadata": {
            "needs_background": "light"
          }
        }
      ]
    },
    {
      "cell_type": "markdown",
      "source": [
        "#PRUEBA PARA CADA W0 OBTENIDA"
      ],
      "metadata": {
        "id": "sMmMPEZahkF4"
      }
    },
    {
      "cell_type": "code",
      "source": [
        "MAA_w = pd.read_excel(\"Datos_Lab_3.xlsx\", 'Fase 3')\n",
        "MAA_w = np.array([MAA_w['w0'][0], MAA_w['w0.2'][0], MAA_w['w0.4'][0], MAA_w['w0.6'][0]])\n",
        "frec_nat = np.sqrt(np.power(MAA_w,2)+np.power(coef_amort_ajuste2,2))\n",
        "frec_nat"
      ],
      "metadata": {
        "colab": {
          "base_uri": "https://localhost:8080/"
        },
        "id": "JacTTc4O1gBw",
        "outputId": "54ae9d46-b520-470e-c4da-916e7e737d33"
      },
      "execution_count": null,
      "outputs": [
        {
          "output_type": "execute_result",
          "data": {
            "text/plain": [
              "array([3.38960908, 3.36957223, 3.34002765, 3.33049574])"
            ]
          },
          "metadata": {},
          "execution_count": 206
        }
      ]
    },
    {
      "cell_type": "code",
      "source": [
        "wr_teo = np.sqrt(np.power(frec_nat,2)-2*np.power(coef_amort_ajuste2,2))\n",
        "wr_teo"
      ],
      "metadata": {
        "colab": {
          "base_uri": "https://localhost:8080/"
        },
        "id": "qxE1CW27FBWg",
        "outputId": "d73df4f6-75e4-40dc-eb10-bc28f96bc058"
      },
      "execution_count": null,
      "outputs": [
        {
          "output_type": "execute_result",
          "data": {
            "text/plain": [
              "array([3.38958744, 3.36886163, 3.33228255, 3.29507556])"
            ]
          },
          "metadata": {},
          "execution_count": 207
        }
      ]
    },
    {
      "cell_type": "code",
      "source": [
        "def amp_f(param, num):\n",
        "    return (num)/np.sqrt((param[0]**2-param[1]**2)**2+4*param[2]**2*param[0]**2)\n",
        "num=5/4\n",
        "w=np.linspace(2.75,3.75,1000)\n",
        "corrientes = [0,0.2,0.4,0.6]\n",
        "for idx,wi in enumerate(MAF_w):\n",
        "  plt.plot(w, amp_f([w,frec_nat[idx],coef_amort[idx]],num), label='I='+str(corrientes[idx])+'[A]')\n",
        "  plt.title(\"Ajustes para $A$ vs $\\omega$\")\n",
        "  plt.legend()\n",
        "  plt.xlabel('$\\omega[rad/s]$')\n",
        "  plt.ylabel('$A[cm]$')"
      ],
      "metadata": {
        "colab": {
          "base_uri": "https://localhost:8080/",
          "height": 301
        },
        "id": "M4lXuJ3r6fnG",
        "outputId": "cb455bc6-874f-4578-cd5b-d0324c48b60c"
      },
      "execution_count": null,
      "outputs": [
        {
          "output_type": "display_data",
          "data": {
            "text/plain": [
              "<Figure size 432x288 with 1 Axes>"
            ],
            "image/png": "[encoded data removed]"
          },
          "metadata": {
            "needs_background": "light"
          }
        }
      ]
    },
    {
      "cell_type": "code",
      "source": [
        "np.max(amp_f([w,frec_nat[3],coef_amort[3]],num))"
      ],
      "metadata": {
        "colab": {
          "base_uri": "https://localhost:8080/"
        },
        "id": "lOGlf4Fj_kyk",
        "outputId": "6ae4b878-1d01-4125-f055-a03aa3522ac7"
      },
      "execution_count": null,
      "outputs": [
        {
          "output_type": "execute_result",
          "data": {
            "text/plain": [
              "0.4958768660873926"
            ]
          },
          "metadata": {},
          "execution_count": 211
        }
      ]
    },
    {
      "cell_type": "code",
      "source": [
        "coef_MAFs = []\n",
        "for idx,w in enumerate(MAF_w):\n",
        "  \n",
        "  def amp_f_fit(x,num):\n",
        "    return amp_f([x,frec_nat[idx],coef_amort[idx]],num)\n",
        "  \n",
        "  coef_MAF, pcov = curve_fit(amp_f_fit, w, MAF_A[idx], p0=[5/4])\n",
        "  coef_MAFs.append(coef_MAF)\n",
        "  print(amp_f_fit(w, *coef_MAF))\n",
        "  R_S1 = r2_score(MAF_A[idx],amp_f_fit(w, *coef_MAF))\n",
        "  RMSE1 = mean_squared_error(MAF_A[idx],amp_f_fit(w, *coef_MAF), squared=False)\n",
        "  print(\"R^2 y RMSE para 1: \"+str(R_S1)+\" \"+str(RMSE1))"
      ],
      "metadata": {
        "colab": {
          "base_uri": "https://localhost:8080/"
        },
        "id": "qWdHOQmUABwq",
        "outputId": "cc4f3d0e-0992-496a-8597-64d9fb2e9d03"
      },
      "execution_count": null,
      "outputs": [
        {
          "output_type": "stream",
          "name": "stdout",
          "text": [
            "0     0.160093\n",
            "1     0.387156\n",
            "2     0.414592\n",
            "3     3.629731\n",
            "4     7.505501\n",
            "5    19.960768\n",
            "6     0.352262\n",
            "7     0.156195\n",
            "Name: w0, dtype: float64\n",
            "R^2 y RMSE para 1: 0.967680400362165 1.105349272796324\n",
            "0    1.375112\n",
            "1    3.001455\n",
            "2    8.829470\n",
            "3    2.424818\n",
            "4    1.761355\n",
            "5    1.288440\n",
            "6    0.595543\n",
            "7    0.281825\n",
            "Name: w0.2, dtype: float64\n",
            "R^2 y RMSE para 1: 0.9921516107693934 0.2298361386009803\n",
            "0    1.078781\n",
            "1    1.542366\n",
            "2    1.907369\n",
            "3    4.729088\n",
            "4    2.995548\n",
            "5    2.413096\n",
            "6    0.887120\n",
            "7    0.474334\n",
            "Name: w0.4, dtype: float64\n",
            "R^2 y RMSE para 1: 0.965283331007682 0.23363762006768077\n",
            "0    1.005899\n",
            "1    1.673884\n",
            "2    1.981249\n",
            "3    2.076975\n",
            "4    1.982253\n",
            "5    1.224739\n",
            "6    0.962936\n",
            "7    0.435906\n",
            "Name: w0.6, dtype: float64\n",
            "R^2 y RMSE para 1: 0.979686613647067 0.08698698992646858\n"
          ]
        }
      ]
    },
    {
      "cell_type": "code",
      "source": [
        "w=np.linspace(3,3.75,1000)\n",
        "for idx,wi in enumerate(MAF_w):\n",
        "  plt.plot(w, amp_f([w,frec_nat[idx],coef_amort[idx]],*coef_MAFs[idx]))"
      ],
      "metadata": {
        "colab": {
          "base_uri": "https://localhost:8080/",
          "height": 265
        },
        "id": "iHxVKazvBQwy",
        "outputId": "a669135e-4723-4aab-dbfc-e46c0a668486"
      },
      "execution_count": null,
      "outputs": [
        {
          "output_type": "display_data",
          "data": {
            "text/plain": [
              "<Figure size 432x288 with 1 Axes>"
            ],
            "image/png": "[encoded data removed]"
          },
          "metadata": {
            "needs_background": "light"
          }
        }
      ]
    },
    {
      "cell_type": "code",
      "source": [
        "np.max(amp_f([w,frec_nat[3],coef_amort[3]],*coef_MAFs[3]))"
      ],
      "metadata": {
        "colab": {
          "base_uri": "https://localhost:8080/"
        },
        "id": "Y32jrsM8CcPI",
        "outputId": "6fcc1952-02b6-41bf-d05a-13de0a581de2"
      },
      "execution_count": null,
      "outputs": [
        {
          "output_type": "execute_result",
          "data": {
            "text/plain": [
              "2.094703717024083"
            ]
          },
          "metadata": {},
          "execution_count": 214
        }
      ]
    },
    {
      "cell_type": "code",
      "source": [
        "coef_MAFs"
      ],
      "metadata": {
        "colab": {
          "base_uri": "https://localhost:8080/"
        },
        "id": "vHp2kuNDDGgB",
        "outputId": "ff8a508a-bbe0-4762-c3e5-c4b3861cb9ad"
      },
      "execution_count": null,
      "outputs": [
        {
          "output_type": "execute_result",
          "data": {
            "text/plain": [
              "[array([1.5590275]),\n",
              " array([3.00851004]),\n",
              " array([5.21808661]),\n",
              " array([5.23561124])]"
            ]
          },
          "metadata": {},
          "execution_count": 215
        }
      ]
    },
    {
      "cell_type": "markdown",
      "source": [
        "Encontrar maximos:"
      ],
      "metadata": {
        "id": "nLAgARTBZcXl"
      }
    },
    {
      "cell_type": "code",
      "source": [
        "def amp_f_max(w,wr,coef_amort, num):\n",
        "    return (num)/np.sqrt((w**2-wr**2)**2+4*coef_amort**2*w**2)\n",
        "w=np.linspace(3,3.75,1000)\n",
        "wr_calc=[]\n",
        "for idx,wi in enumerate(MAF_w):\n",
        "  max_x = fmin(lambda x: -amp_f_max(x,frec_nat[idx],coef_amort[idx],*coef_MAFs[idx]), 3)\n",
        "  max = minimize_scalar(lambda x: -amp_f_max(x,frec_nat[idx],coef_amort[idx],*coef_MAFs[idx]),bounds=(0, 5), method='bounded')\n",
        "  wr_calc.append(max['x'])\n",
        "# array([ 1.])"
      ],
      "metadata": {
        "colab": {
          "base_uri": "https://localhost:8080/"
        },
        "id": "WHfDy_wjD9bI",
        "outputId": "67f8a4cc-7a66-4ee5-9ae5-e783e46c12c2"
      },
      "execution_count": null,
      "outputs": [
        {
          "output_type": "stream",
          "name": "stdout",
          "text": [
            "Optimization terminated successfully.\n",
            "         Current function value: -27.380310\n",
            "         Iterations: 15\n",
            "         Function evaluations: 30\n",
            "Optimization terminated successfully.\n",
            "         Current function value: -9.047789\n",
            "         Iterations: 13\n",
            "         Function evaluations: 26\n",
            "Optimization terminated successfully.\n",
            "         Current function value: -4.851547\n",
            "         Iterations: 13\n",
            "         Function evaluations: 26\n",
            "Optimization terminated successfully.\n",
            "         Current function value: -2.094704\n",
            "         Iterations: 13\n",
            "         Function evaluations: 26\n"
          ]
        }
      ]
    },
    {
      "cell_type": "code",
      "source": [
        "print(wr_calc)"
      ],
      "metadata": {
        "colab": {
          "base_uri": "https://localhost:8080/"
        },
        "id": "E0qh4u1JaXmy",
        "outputId": "0d58424e-38ee-4644-8303-634691b1662c"
      },
      "execution_count": null,
      "outputs": [
        {
          "output_type": "stream",
          "name": "stdout",
          "text": [
            "[3.389586670637963, 3.368850348839024, 3.3322388447179963, 3.2873907097383173]\n"
          ]
        }
      ]
    },
    {
      "cell_type": "code",
      "source": [
        ""
      ],
      "metadata": {
        "id": "H7iOUMWCc39S"
      },
      "execution_count": null,
      "outputs": []
    },
    {
      "cell_type": "markdown",
      "source": [
        "#PRUEBA CON W0 SOLO SIN AMORTIGUAMIENTO"
      ],
      "metadata": {
        "id": "Olb-oLd5hXb_"
      }
    },
    {
      "cell_type": "code",
      "source": [
        "MAA_w = pd.read_excel(\"Datos_Lab_3.xlsx\", 'Fase 3')\n",
        "MAA_w = np.array([MAA_w['w0'][0], MAA_w['w0.2'][0], MAA_w['w0.4'][0], MAA_w['w0.6'][0]])\n",
        "frec_nat = np.sqrt(np.power(MAA_w,2)+np.power(coef_amort_ajuste2,2))\n",
        "frec_nat"
      ],
      "metadata": {
        "colab": {
          "base_uri": "https://localhost:8080/"
        },
        "outputId": "0831c947-e51e-4b05-ebeb-c09bc1225d9d",
        "id": "osZR7DnOhKE5"
      },
      "execution_count": null,
      "outputs": [
        {
          "output_type": "execute_result",
          "data": {
            "text/plain": [
              "array([3.38960908, 3.36957223, 3.34002765, 3.33049574])"
            ]
          },
          "metadata": {},
          "execution_count": 248
        }
      ]
    },
    {
      "cell_type": "code",
      "source": [
        "wr_teo = np.sqrt(np.power(frec_nat[0],2)-2*np.power(coef_amort_ajuste2,2))\n",
        "wr_teo"
      ],
      "metadata": {
        "colab": {
          "base_uri": "https://localhost:8080/"
        },
        "outputId": "d1204860-01b2-4a23-f95c-80c79f706162",
        "id": "7adpnYE4hKE6"
      },
      "execution_count": null,
      "outputs": [
        {
          "output_type": "execute_result",
          "data": {
            "text/plain": [
              "array([3.38958744, 3.38890269, 3.38197753, 3.35481308])"
            ]
          },
          "metadata": {},
          "execution_count": 249
        }
      ]
    },
    {
      "cell_type": "code",
      "source": [
        "def amp_f(param, num):\n",
        "    return (num)/np.sqrt((param[0]**2-param[1]**2)**2+4*param[2]**2*param[0]**2)\n",
        "num=5/4\n",
        "w=np.linspace(3.2,3.6,200)\n",
        "for idx,wi in enumerate(MAF_w):\n",
        "  plt.plot(w, amp_f([w,frec_nat[0],coef_amort[idx]],num))"
      ],
      "metadata": {
        "colab": {
          "base_uri": "https://localhost:8080/",
          "height": 265
        },
        "outputId": "9c7e697d-10f8-47ea-e177-68cca4ce98c8",
        "id": "IJ7a4sTHhKE6"
      },
      "execution_count": null,
      "outputs": [
        {
          "output_type": "display_data",
          "data": {
            "text/plain": [
              "<Figure size 432x288 with 1 Axes>"
            ],
            "image/png": "[encoded data removed]"
          },
          "metadata": {
            "needs_background": "light"
          }
        }
      ]
    },
    {
      "cell_type": "code",
      "source": [
        "np.max(amp_f([w,frec_nat[0],coef_amort[3]],num))"
      ],
      "metadata": {
        "colab": {
          "base_uri": "https://localhost:8080/"
        },
        "outputId": "345474b7-4b1a-4b58-a69f-11388c0dbe58",
        "id": "PvBmmIIxhKE8"
      },
      "execution_count": null,
      "outputs": [
        {
          "output_type": "execute_result",
          "data": {
            "text/plain": [
              "0.4912768756396778"
            ]
          },
          "metadata": {},
          "execution_count": 251
        }
      ]
    },
    {
      "cell_type": "code",
      "source": [
        "coef_MAFs = []\n",
        "for idx,w in enumerate(MAF_w):\n",
        "  \n",
        "  def amp_f_fit(x,num):\n",
        "    return amp_f([x,frec_nat[0],coef_amort[idx]],num)\n",
        "  \n",
        "  coef_MAF, pcov = curve_fit(amp_f_fit, w, MAF_A[idx], p0=[5/4])\n",
        "  coef_MAFs.append(coef_MAF[0])\n",
        "  print(amp_f_fit(w, *coef_MAF))\n",
        "  R_S1 = r2_score(MAF_A[idx],amp_f_fit(w, *coef_MAF))\n",
        "  RMSE1 = mean_squared_error(MAF_A[idx],amp_f_fit(w, *coef_MAF), squared=False)\n",
        "  print(\"R^2 y RMSE para 1: \"+str(R_S1)+\" \"+str(RMSE1))"
      ],
      "metadata": {
        "colab": {
          "base_uri": "https://localhost:8080/"
        },
        "outputId": "de92291e-d661-4657-b8c1-ecbf85631f72",
        "id": "LJRUEdGAhKE8"
      },
      "execution_count": null,
      "outputs": [
        {
          "output_type": "stream",
          "name": "stdout",
          "text": [
            "0     0.160093\n",
            "1     0.387156\n",
            "2     0.414592\n",
            "3     3.629731\n",
            "4     7.505501\n",
            "5    19.960768\n",
            "6     0.352262\n",
            "7     0.156195\n",
            "Name: w0, dtype: float64\n",
            "R^2 y RMSE para 1: 0.967680400362165 1.105349272796324\n",
            "0    1.287855\n",
            "1    2.642726\n",
            "2    8.795183\n",
            "3    2.690676\n",
            "4    1.897679\n",
            "5    1.358486\n",
            "6    0.608228\n",
            "7    0.283733\n",
            "Name: w0.2, dtype: float64\n",
            "R^2 y RMSE para 1: 0.9772785599984058 0.3910623231998699\n",
            "0    0.957816\n",
            "1    1.335309\n",
            "2    1.621826\n",
            "3    4.518819\n",
            "4    3.287203\n",
            "5    2.618868\n",
            "6    0.890386\n",
            "7    0.463737\n",
            "Name: w0.4, dtype: float64\n",
            "R^2 y RMSE para 1: 0.8912864391057725 0.4134429682704532\n",
            "0    0.952230\n",
            "1    1.555107\n",
            "2    1.871815\n",
            "3    2.086383\n",
            "4    2.054368\n",
            "5    1.331657\n",
            "6    1.039281\n",
            "7    0.456535\n",
            "Name: w0.6, dtype: float64\n",
            "R^2 y RMSE para 1: 0.9342470043746437 0.15650236698032788\n"
          ]
        }
      ]
    },
    {
      "cell_type": "code",
      "source": [
        "w=np.linspace(3,3.75,2000)\n",
        "for idx,wi in enumerate(MAF_w):\n",
        "  plt.plot(w, amp_f([w,frec_nat[0],coef_amort[idx]],*coef_MAFs[idx]))"
      ],
      "metadata": {
        "colab": {
          "base_uri": "https://localhost:8080/",
          "height": 265
        },
        "outputId": "9062a7e2-26c6-4760-a770-e83c2c428487",
        "id": "2rpoUTWfhKE9"
      },
      "execution_count": null,
      "outputs": [
        {
          "output_type": "display_data",
          "data": {
            "text/plain": [
              "<Figure size 432x288 with 1 Axes>"
            ],
            "image/png": "[encoded data removed]"
          },
          "metadata": {
            "needs_background": "light"
          }
        }
      ]
    },
    {
      "cell_type": "code",
      "source": [
        "np.max(amp_f([w,frec_nat[0],coef_amort[3]],*coef_MAFs[3]))"
      ],
      "metadata": {
        "colab": {
          "base_uri": "https://localhost:8080/"
        },
        "outputId": "259f3bd3-1afe-42c6-d637-a09a85915c46",
        "id": "Lscccu2zhKE9"
      },
      "execution_count": null,
      "outputs": [
        {
          "output_type": "execute_result",
          "data": {
            "text/plain": [
              "2.0871718883069397"
            ]
          },
          "metadata": {},
          "execution_count": 254
        }
      ]
    },
    {
      "cell_type": "code",
      "source": [
        "coef_MAFs"
      ],
      "metadata": {
        "colab": {
          "base_uri": "https://localhost:8080/"
        },
        "outputId": "2975d41c-45b0-4cc1-f1f8-d82d89a7269a",
        "id": "jAJE0HgChKE9"
      },
      "execution_count": null,
      "outputs": [
        {
          "output_type": "execute_result",
          "data": {
            "text/plain": [
              "[1.5590275035151477, 2.990481683171093, 4.948292323016837, 5.310574713071625]"
            ]
          },
          "metadata": {},
          "execution_count": 257
        }
      ]
    },
    {
      "cell_type": "code",
      "source": [
        ""
      ],
      "metadata": {
        "id": "OfWJdIdhzydc"
      },
      "execution_count": null,
      "outputs": []
    },
    {
      "cell_type": "markdown",
      "source": [
        "Encontrar maximos:"
      ],
      "metadata": {
        "id": "8ujp2xQchKE9"
      }
    },
    {
      "cell_type": "code",
      "source": [
        "def amp_f_max(w,wr,coef_amort, num):\n",
        "    return (num)/np.sqrt((w**2-wr**2)**2+4*coef_amort**2*w**2)\n",
        "w=np.linspace(3,3.75,1000)\n",
        "wr_calc=[]\n",
        "for idx,wi in enumerate(MAF_w):\n",
        "  max_x = fmin(lambda x: -amp_f_max(x,frec_nat[0],coef_amort[idx],*coef_MAFs[idx]), 3)\n",
        "  max = minimize_scalar(lambda x: -amp_f_max(x,frec_nat[0],coef_amort[idx],*coef_MAFs[idx]),bounds=(0, 5), method='bounded')\n",
        "  wr_calc.append(max['x'])\n",
        "# array([ 1.])"
      ],
      "metadata": {
        "colab": {
          "base_uri": "https://localhost:8080/"
        },
        "outputId": "d3d68167-a4c8-4f08-d075-8ea4af91007d",
        "id": "sOl_zKGthKE9"
      },
      "execution_count": null,
      "outputs": [
        {
          "output_type": "stream",
          "name": "stdout",
          "text": [
            "Optimization terminated successfully.\n",
            "         Current function value: -27.380310\n",
            "         Iterations: 15\n",
            "         Function evaluations: 30\n",
            "Optimization terminated successfully.\n",
            "         Current function value: -8.940395\n",
            "         Iterations: 14\n",
            "         Function evaluations: 28\n",
            "Optimization terminated successfully.\n",
            "         Current function value: -4.533254\n",
            "         Iterations: 14\n",
            "         Function evaluations: 28\n",
            "Optimization terminated successfully.\n",
            "         Current function value: -2.087172\n",
            "         Iterations: 13\n",
            "         Function evaluations: 26\n"
          ]
        }
      ]
    },
    {
      "cell_type": "code",
      "source": [
        "print(wr_calc)"
      ],
      "metadata": {
        "colab": {
          "base_uri": "https://localhost:8080/"
        },
        "outputId": "b055c75f-c510-446b-803f-78001e491736",
        "id": "IA6VsJ97hKE9"
      },
      "execution_count": null,
      "outputs": [
        {
          "output_type": "stream",
          "name": "stdout",
          "text": [
            "[3.389586670637963, 3.388890535126276, 3.381933974916064, 3.347264134773633]\n"
          ]
        }
      ]
    },
    {
      "cell_type": "code",
      "source": [
        "wr_calc=np.array(wr_calc)\n",
        "err = abs((wr_teo-wr_calc)/wr_teo)*100"
      ],
      "metadata": {
        "id": "dVAt0zMBilGO"
      },
      "execution_count": null,
      "outputs": []
    },
    {
      "cell_type": "code",
      "source": [
        "print(err)"
      ],
      "metadata": {
        "colab": {
          "base_uri": "https://localhost:8080/"
        },
        "id": "UZnQrFQk0MDD",
        "outputId": "76d0ed5f-397e-4c24-c62b-525c956486ab"
      },
      "execution_count": null,
      "outputs": [
        {
          "output_type": "stream",
          "name": "stdout",
          "text": [
            "[0.14766673 1.25881613 3.1138308  3.05254796]\n"
          ]
        }
      ]
    },
    {
      "cell_type": "markdown",
      "source": [
        "#CALCULANDO TODOS LOS PARAMETROS"
      ],
      "metadata": {
        "id": "gtPPldYNjGyX"
      }
    },
    {
      "cell_type": "code",
      "source": [
        ""
      ],
      "metadata": {
        "id": "ilZ30Gk5jKFu"
      },
      "execution_count": null,
      "outputs": []
    },
    {
      "cell_type": "code",
      "source": [
        "MAA_w = pd.read_excel(\"Datos_Lab_3.xlsx\", 'Fase 3')\n",
        "MAA_w = np.array([MAA_w['w0'][0], MAA_w['w0.2'][0], MAA_w['w0.4'][0], MAA_w['w0.6'][0]])\n",
        "frec_nat = np.sqrt(np.power(MAA_w,2)+np.power(coef_amort_ajuste2,2))\n",
        "frec_nat"
      ],
      "metadata": {
        "colab": {
          "base_uri": "https://localhost:8080/"
        },
        "outputId": "da7260c1-95bc-4ede-cbdd-e4d93d5aacaf",
        "id": "dXnvQK3UjOBP"
      },
      "execution_count": null,
      "outputs": [
        {
          "output_type": "execute_result",
          "data": {
            "text/plain": [
              "array([3.38960908, 3.36957223, 3.34002765, 3.33049574])"
            ]
          },
          "metadata": {},
          "execution_count": 234
        }
      ]
    },
    {
      "cell_type": "code",
      "source": [
        "wr_teo = np.sqrt(np.power(frec_nat[0],2)-2*np.power(coef_amort_ajuste2,2))\n",
        "wr_teo"
      ],
      "metadata": {
        "colab": {
          "base_uri": "https://localhost:8080/"
        },
        "outputId": "dde337d9-364c-4e7e-9fa8-2f56ddb26268",
        "id": "Wy7D9Ul-jOBQ"
      },
      "execution_count": null,
      "outputs": [
        {
          "output_type": "execute_result",
          "data": {
            "text/plain": [
              "array([3.38958744, 3.38890269, 3.38197753, 3.35481308])"
            ]
          },
          "metadata": {},
          "execution_count": 235
        }
      ]
    },
    {
      "cell_type": "code",
      "source": [
        "def amp_f(w, w0, coef_amort, num):\n",
        "    return (num)/np.sqrt((w**2-w0**2)**2+4*coef_amort**2*w**2)\n",
        "num=5/4\n",
        "w=np.linspace(3.2,3.6,200)\n",
        "for idx,wi in enumerate(MAF_w):\n",
        "  plt.plot(w, amp_f(w,frec_nat[0],coef_amort[idx],num))"
      ],
      "metadata": {
        "colab": {
          "base_uri": "https://localhost:8080/",
          "height": 265
        },
        "outputId": "6fd1a530-a28e-4bcf-bb09-dfdf8c155698",
        "id": "Ri9-_qrMjOBQ"
      },
      "execution_count": null,
      "outputs": [
        {
          "output_type": "display_data",
          "data": {
            "text/plain": [
              "<Figure size 432x288 with 1 Axes>"
            ],
            "image/png": "[encoded data removed]"
          },
          "metadata": {
            "needs_background": "light"
          }
        }
      ]
    },
    {
      "cell_type": "code",
      "source": [
        "np.max(amp_f(w,frec_nat[0],coef_amort[3],num))"
      ],
      "metadata": {
        "colab": {
          "base_uri": "https://localhost:8080/"
        },
        "outputId": "f3b1af95-c8d4-463f-c53e-bc0d72b4a157",
        "id": "k2XPLpHWjOBQ"
      },
      "execution_count": null,
      "outputs": [
        {
          "output_type": "execute_result",
          "data": {
            "text/plain": [
              "0.4912768756396778"
            ]
          },
          "metadata": {},
          "execution_count": 237
        }
      ]
    },
    {
      "cell_type": "code",
      "source": [
        "coef_MAFs = []\n",
        "for idx,w in enumerate(MAF_w):\n",
        "  \n",
        "  def amp_f_fit(x,num):\n",
        "    return amp_f([x,frec_nat[0],coef_amort[idx]],num)\n",
        "  \n",
        "  coef_MAF, pcov = curve_fit(amp_f, w, MAF_A[idx], p0=[3.38,0.1,5/4])\n",
        "  coef_MAFs.append(coef_MAF)\n",
        "  print(amp_f(w, *coef_MAF))\n",
        "  R_S1 = r2_score(MAF_A[idx],amp_f(w, *coef_MAF))\n",
        "  RMSE1 = mean_squared_error(MAF_A[idx],amp_f(w, *coef_MAF), squared=False)\n",
        "  print(\"R^2 y RMSE para 1: \"+str(R_S1)+\" \"+str(RMSE1))"
      ],
      "metadata": {
        "colab": {
          "base_uri": "https://localhost:8080/"
        },
        "outputId": "89d86ad4-ca59-417d-af8d-022672747860",
        "id": "iwg8cT8jjOBQ"
      },
      "execution_count": null,
      "outputs": [
        {
          "output_type": "stream",
          "name": "stdout",
          "text": [
            "0     0.178503\n",
            "1     0.429595\n",
            "2     0.459773\n",
            "3     3.794647\n",
            "4     7.463340\n",
            "5    19.953106\n",
            "6     0.397214\n",
            "7     0.175361\n",
            "Name: w0, dtype: float64\n",
            "R^2 y RMSE para 1: 0.9690293443000428 1.0820360836184268\n",
            "0    1.426730\n",
            "1    3.485936\n",
            "2    8.801703\n",
            "3    2.111626\n",
            "4    1.567683\n",
            "5    1.167369\n",
            "6    0.555715\n",
            "7    0.266862\n",
            "Name: w0.2, dtype: float64\n",
            "R^2 y RMSE para 1: 0.9992304281871757 0.07197018618763085\n",
            "0    1.190705\n",
            "1    1.773039\n",
            "2    2.265817\n",
            "3    4.798736\n",
            "4    2.693942\n",
            "5    2.183830\n",
            "6    0.851020\n",
            "7    0.466125\n",
            "Name: w0.4, dtype: float64\n",
            "R^2 y RMSE para 1: 0.9921439883643093 0.11114113007930751\n",
            "0    0.985872\n",
            "1    1.735236\n",
            "2    2.080390\n",
            "3    2.097486\n",
            "4    1.943730\n",
            "5    1.113787\n",
            "6    0.869657\n",
            "7    0.394373\n",
            "Name: w0.6, dtype: float64\n",
            "R^2 y RMSE para 1: 0.9935895902669631 0.048865914762298596\n"
          ]
        },
        {
          "output_type": "stream",
          "name": "stderr",
          "text": [
            "/usr/local/lib/python3.7/dist-packages/scipy/optimize/minpack.py:834: OptimizeWarning: Covariance of the parameters could not be estimated\n",
            "  category=OptimizeWarning)\n"
          ]
        }
      ]
    },
    {
      "cell_type": "code",
      "source": [
        "w=np.linspace(3,3.75,1000)\n",
        "for idx,wi in enumerate(MAF_w):\n",
        "  plt.plot(w, amp_f(w,*coef_MAFs[idx]))\n",
        "  plt.ylim([0,50])\n",
        "  plt.xlim([3.1,3.5])"
      ],
      "metadata": {
        "colab": {
          "base_uri": "https://localhost:8080/",
          "height": 269
        },
        "outputId": "d4676c13-7582-4a5a-a6a2-897775b9b47e",
        "id": "0jlfuFBCjOBQ"
      },
      "execution_count": null,
      "outputs": [
        {
          "output_type": "display_data",
          "data": {
            "text/plain": [
              "<Figure size 432x288 with 1 Axes>"
            ],
            "image/png": "[encoded data removed]"
          },
          "metadata": {
            "needs_background": "light"
          }
        }
      ]
    },
    {
      "cell_type": "code",
      "source": [
        "np.max(amp_f(w,*coef_MAFs[3]))"
      ],
      "metadata": {
        "colab": {
          "base_uri": "https://localhost:8080/"
        },
        "outputId": "e3a5f305-e96b-4d7d-ddea-ccff376f685f",
        "id": "u2yXr29kjOBQ"
      },
      "execution_count": null,
      "outputs": [
        {
          "output_type": "execute_result",
          "data": {
            "text/plain": [
              "2.1621806525721428"
            ]
          },
          "metadata": {},
          "execution_count": 240
        }
      ]
    },
    {
      "cell_type": "code",
      "source": [
        "coef_MAFs"
      ],
      "metadata": {
        "colab": {
          "base_uri": "https://localhost:8080/"
        },
        "outputId": "ecb94560-854d-430b-f560-77042cc49a2b",
        "id": "mcg4ul3mjOBQ"
      },
      "execution_count": null,
      "outputs": [
        {
          "output_type": "execute_result",
          "data": {
            "text/plain": [
              "[array([ 3.39459402e+00, -6.57755182e-07,  1.74434228e+00]),\n",
              " array([ 3.34662142, -0.03552811,  2.88859925]),\n",
              " array([3.28261792, 0.13968437, 5.29165673]),\n",
              " array([3.28769639, 0.33971046, 4.80387579])]"
            ]
          },
          "metadata": {},
          "execution_count": 241
        }
      ]
    },
    {
      "cell_type": "markdown",
      "source": [
        "Encontrar maximos:"
      ],
      "metadata": {
        "id": "iSBoa0rWjOBR"
      }
    },
    {
      "cell_type": "code",
      "source": [
        "def amp_f_max(w,wr,coef_amort, num):\n",
        "    return (num)/np.sqrt((w**2-wr**2)**2+4*coef_amort**2*w**2)\n",
        "w=np.linspace(3,3.75,1000)\n",
        "wr_calc=[]\n",
        "for idx,wi in enumerate(MAF_w):\n",
        "  max_x = fmin(lambda x: -amp_f_max(x,*coef_MAFs[idx]), 3)\n",
        "  max = minimize_scalar(lambda x: -amp_f_max(x,*coef_MAFs[idx]),bounds=(0, 5), method='bounded')\n",
        "  wr_calc.append(max['x'])\n",
        "# array([ 1.])"
      ],
      "metadata": {
        "colab": {
          "base_uri": "https://localhost:8080/"
        },
        "outputId": "8949f57d-86e9-41e8-d912-4370bc33ab8a",
        "id": "8vPcXDJTjOBR"
      },
      "execution_count": null,
      "outputs": [
        {
          "output_type": "stream",
          "name": "stdout",
          "text": [
            "Optimization terminated successfully.\n",
            "         Current function value: -390615.605969\n",
            "         Iterations: 37\n",
            "         Function evaluations: 74\n",
            "Optimization terminated successfully.\n",
            "         Current function value: -12.147950\n",
            "         Iterations: 13\n",
            "         Function evaluations: 26\n",
            "Optimization terminated successfully.\n",
            "         Current function value: -5.775466\n",
            "         Iterations: 13\n",
            "         Function evaluations: 26\n",
            "Optimization terminated successfully.\n",
            "         Current function value: -2.162181\n",
            "         Iterations: 13\n",
            "         Function evaluations: 26\n"
          ]
        }
      ]
    },
    {
      "cell_type": "code",
      "source": [
        "print(wr_calc)"
      ],
      "metadata": {
        "colab": {
          "base_uri": "https://localhost:8080/"
        },
        "outputId": "fb8558e0-9fc6-4245-b439-af38c7063e53",
        "id": "9twB38b_jOBR"
      },
      "execution_count": null,
      "outputs": [
        {
          "output_type": "stream",
          "name": "stdout",
          "text": [
            "[3.394592727912137, 3.3462426324027255, 3.276668473781442, 3.2524057987268433]\n"
          ]
        }
      ]
    },
    {
      "cell_type": "code",
      "source": [
        ""
      ],
      "metadata": {
        "id": "kFA_pfDynKI9"
      },
      "execution_count": null,
      "outputs": []
    }
  ]
}